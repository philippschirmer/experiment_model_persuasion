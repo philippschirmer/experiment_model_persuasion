{
 "cells": [
  {
   "cell_type": "markdown",
   "metadata": {},
   "source": [
    "### Implement real-world stock data analysis.\n"
   ]
  },
  {
   "cell_type": "code",
   "execution_count": 1,
   "metadata": {},
   "outputs": [],
   "source": [
    "\n",
    "from src.config import BLD, EXP\n",
    "\n",
    "import pandas as pd\n",
    "\n",
    "import numpy as np\n",
    "\n",
    "import pytask\n",
    "import plotly.express as px\n",
    "\n",
    "import plotly.graph_objects as go\n",
    "\n",
    "import math\n",
    "\n",
    "from datetime import datetime\n",
    "\n",
    "# Self-written graphing functions for multiple trend changes.\n",
    "import graphing_functions\n",
    "\n"
   ]
  },
  {
   "cell_type": "code",
   "execution_count": 2,
   "metadata": {},
   "outputs": [],
   "source": [
    "# df = pd.read_csv('AMZN_stock_prices_new.csv', sep=\",\")\n",
    "\n",
    "\n",
    "# Import the biggest ten stocks, from 2010 to 2020 (top_ten_2010).\n",
    "\n",
    "top_ten_2022 = (\"AAPL\", \"MSFT\", \"GOOG\", \"AMZN\", \"TSLA\", \"BRK-A\", \"UNH\", \"META\", \"JNJ\", \"V\" ,\"XOM\")\n",
    "\n",
    "top_ten_2010 = (\n",
    "    \"XOM\",\n",
    "    \"MSFT\",\n",
    "    \"AAPL\",\n",
    "    \"WMT\",\n",
    "    \"BRK-A\",\n",
    "    \"GE\",\n",
    "    \"PG\",\n",
    "    \"BAC\",\n",
    "    \"GOOG\",\n",
    "    \"JPM\")\n",
    "\n",
    "list_dates = list()\n",
    "min_dates = dict()\n",
    "max_dates =dict()\n",
    "\n",
    "min_dates_2010= dict()\n",
    "max_dates_2010= dict()\n",
    "\n",
    "# Collect stocks' closing prices in joint Dataframe.\n",
    "\n",
    "for symbol in top_ten_2022:\n",
    "    df = pd.read_csv(\"orig/\" + symbol + \".csv\", sep=\",\")\n",
    "    time_min = df[\"Date\"].min()\n",
    "    time_max = df[\"Date\"].max()\n",
    "    \n",
    "    list_dates.append(time_min)\n",
    "    min_dates[symbol] = time_min\n",
    "    max_dates[symbol] = time_max\n",
    "\n",
    "\n",
    "for symbol in top_ten_2010:\n",
    "    df = pd.read_csv(\"orig/\" + symbol + \".csv\", sep=\",\", parse_dates=[\"Date\"])\n",
    "    time_min = df[\"Date\"].min()\n",
    "    time_max = df[\"Date\"].max()\n",
    "    \n",
    "    list_dates.append(time_min)\n",
    "    min_dates_2010[symbol] = time_min\n",
    "    max_dates_2010[symbol] = time_max"
   ]
  },
  {
   "cell_type": "code",
   "execution_count": 3,
   "metadata": {},
   "outputs": [
    {
     "data": {
      "text/plain": [
       "{'XOM': Timestamp('1962-01-02 00:00:00'),\n",
       " 'MSFT': Timestamp('1986-03-13 00:00:00'),\n",
       " 'AAPL': Timestamp('1980-12-12 00:00:00'),\n",
       " 'WMT': Timestamp('1972-08-25 00:00:00'),\n",
       " 'BRK-A': Timestamp('1980-03-17 00:00:00'),\n",
       " 'GE': Timestamp('1962-01-02 00:00:00'),\n",
       " 'PG': Timestamp('1962-01-02 00:00:00'),\n",
       " 'BAC': Timestamp('1973-02-21 00:00:00'),\n",
       " 'GOOG': Timestamp('2004-08-19 00:00:00'),\n",
       " 'JPM': Timestamp('1980-03-17 00:00:00')}"
      ]
     },
     "execution_count": 3,
     "metadata": {},
     "output_type": "execute_result"
    }
   ],
   "source": [
    "min_dates_2010"
   ]
  },
  {
   "cell_type": "code",
   "execution_count": 4,
   "metadata": {},
   "outputs": [],
   "source": [
    "# Make a combined Df with all the potentially relevant stocks.\n",
    "\n",
    "# (Check whether between 2010 and 2020, all the stocks were traded at all the available days)\n",
    "\n",
    "# Initializes df with GE stock.\n",
    "combined_closes = pd.read_csv(\"orig/\" + \"GE\" + \".csv\", sep=\",\" , usecols=[\"Date\"],parse_dates = [\"Date\"])\n",
    "combined_closes.rename(columns= {\"Close\": \"GE\"}, inplace= True)\n",
    "\n",
    "#for symbol in top_ten_2010:\n",
    "for symbol in top_ten_2010:\n",
    "    df_indiv = pd.read_csv(\"orig/\" + symbol + \".csv\", sep=\",\", usecols=[\"Date\", \"Close\"], parse_dates = [\"Date\"])\n",
    "    df_indiv.rename(columns={'Close': symbol}, inplace=True)\n",
    "\n",
    "    #df_indiv.drop([\"Open\", \"High\", \"Low\", \"Adj Close\"], axis=1)\n",
    "    #df_indiv[symbol] = df_indiv[\"Close\"]\n",
    "    #print(df_indiv.head())\n",
    "    combined_closes = pd.merge(combined_closes, df_indiv, \"outer\", \"Date\")\n",
    "    #pd.concat([combined_closes, df_indiv], axis=1)\n",
    "#   combined_closes[symbol] = df_test[\"Close\"][df_test[\"Date\"] <= '2019-12-31'].copy()\n",
    "\n",
    "# shouldn't it be easier to match on date?\n",
    "# print(combined_closes.head())\n",
    "\n"
   ]
  },
  {
   "cell_type": "code",
   "execution_count": 5,
   "metadata": {},
   "outputs": [],
   "source": [
    "# Create reduced frame from 2010 to 2020, check to ensure there are no missing values.\n",
    "\n",
    "\n",
    "from datetime import datetime\n",
    "\n",
    "comb_closes_2010_2020 = combined_closes[combined_closes[\"Date\"] >= datetime.strptime('2010-01-01','%Y-%m-%d')].copy()\n",
    "comb_closes_2010_2020 = comb_closes_2010_2020 [comb_closes_2010_2020[\"Date\"] <= datetime.strptime('2019-12-31','%Y-%m-%d')].copy()\n",
    "\n"
   ]
  },
  {
   "cell_type": "code",
   "execution_count": null,
   "metadata": {},
   "outputs": [
    {
     "data": {
      "text/html": [
       "<div>\n",
       "<style scoped>\n",
       "    .dataframe tbody tr th:only-of-type {\n",
       "        vertical-align: middle;\n",
       "    }\n",
       "\n",
       "    .dataframe tbody tr th {\n",
       "        vertical-align: top;\n",
       "    }\n",
       "\n",
       "    .dataframe thead th {\n",
       "        text-align: right;\n",
       "    }\n",
       "</style>\n",
       "<table border=\"1\" class=\"dataframe\">\n",
       "  <thead>\n",
       "    <tr style=\"text-align: right;\">\n",
       "      <th></th>\n",
       "      <th>Date</th>\n",
       "      <th>XOM</th>\n",
       "      <th>MSFT</th>\n",
       "      <th>AAPL</th>\n",
       "      <th>WMT</th>\n",
       "      <th>BRK-A</th>\n",
       "      <th>GE</th>\n",
       "      <th>PG</th>\n",
       "      <th>BAC</th>\n",
       "      <th>GOOG</th>\n",
       "      <th>JPM</th>\n",
       "    </tr>\n",
       "  </thead>\n",
       "  <tbody>\n",
       "    <tr>\n",
       "      <th>12084</th>\n",
       "      <td>2010-01-04</td>\n",
       "      <td>69.150002</td>\n",
       "      <td>30.950001</td>\n",
       "      <td>7.643214</td>\n",
       "      <td>54.230000</td>\n",
       "      <td>99600.0</td>\n",
       "      <td>118.846153</td>\n",
       "      <td>61.119999</td>\n",
       "      <td>15.690000</td>\n",
       "      <td>15.610239</td>\n",
       "      <td>42.849998</td>\n",
       "    </tr>\n",
       "    <tr>\n",
       "      <th>12085</th>\n",
       "      <td>2010-01-05</td>\n",
       "      <td>69.419998</td>\n",
       "      <td>30.959999</td>\n",
       "      <td>7.656429</td>\n",
       "      <td>53.689999</td>\n",
       "      <td>99710.0</td>\n",
       "      <td>119.461540</td>\n",
       "      <td>61.139999</td>\n",
       "      <td>16.200001</td>\n",
       "      <td>15.541497</td>\n",
       "      <td>43.680000</td>\n",
       "    </tr>\n",
       "    <tr>\n",
       "      <th>12086</th>\n",
       "      <td>2010-01-06</td>\n",
       "      <td>70.019997</td>\n",
       "      <td>30.770000</td>\n",
       "      <td>7.534643</td>\n",
       "      <td>53.570000</td>\n",
       "      <td>99850.0</td>\n",
       "      <td>118.846153</td>\n",
       "      <td>60.849998</td>\n",
       "      <td>16.389999</td>\n",
       "      <td>15.149715</td>\n",
       "      <td>43.919998</td>\n",
       "    </tr>\n",
       "    <tr>\n",
       "      <th>12087</th>\n",
       "      <td>2010-01-07</td>\n",
       "      <td>69.800003</td>\n",
       "      <td>30.450001</td>\n",
       "      <td>7.520714</td>\n",
       "      <td>53.599998</td>\n",
       "      <td>100000.0</td>\n",
       "      <td>125.000000</td>\n",
       "      <td>60.520000</td>\n",
       "      <td>16.930000</td>\n",
       "      <td>14.797037</td>\n",
       "      <td>44.790001</td>\n",
       "    </tr>\n",
       "    <tr>\n",
       "      <th>12088</th>\n",
       "      <td>2010-01-08</td>\n",
       "      <td>69.519997</td>\n",
       "      <td>30.660000</td>\n",
       "      <td>7.570714</td>\n",
       "      <td>53.330002</td>\n",
       "      <td>100300.0</td>\n",
       "      <td>127.692307</td>\n",
       "      <td>60.439999</td>\n",
       "      <td>16.780001</td>\n",
       "      <td>14.994298</td>\n",
       "      <td>44.680000</td>\n",
       "    </tr>\n",
       "    <tr>\n",
       "      <th>...</th>\n",
       "      <td>...</td>\n",
       "      <td>...</td>\n",
       "      <td>...</td>\n",
       "      <td>...</td>\n",
       "      <td>...</td>\n",
       "      <td>...</td>\n",
       "      <td>...</td>\n",
       "      <td>...</td>\n",
       "      <td>...</td>\n",
       "      <td>...</td>\n",
       "      <td>...</td>\n",
       "    </tr>\n",
       "    <tr>\n",
       "      <th>14595</th>\n",
       "      <td>2019-12-24</td>\n",
       "      <td>70.019997</td>\n",
       "      <td>157.380005</td>\n",
       "      <td>71.067497</td>\n",
       "      <td>119.510002</td>\n",
       "      <td>338390.0</td>\n",
       "      <td>89.519997</td>\n",
       "      <td>125.220001</td>\n",
       "      <td>35.220001</td>\n",
       "      <td>67.178001</td>\n",
       "      <td>137.580002</td>\n",
       "    </tr>\n",
       "    <tr>\n",
       "      <th>14596</th>\n",
       "      <td>2019-12-26</td>\n",
       "      <td>70.129997</td>\n",
       "      <td>158.669998</td>\n",
       "      <td>72.477501</td>\n",
       "      <td>119.519997</td>\n",
       "      <td>339650.0</td>\n",
       "      <td>89.839996</td>\n",
       "      <td>125.220001</td>\n",
       "      <td>35.520000</td>\n",
       "      <td>68.019997</td>\n",
       "      <td>139.039993</td>\n",
       "    </tr>\n",
       "    <tr>\n",
       "      <th>14597</th>\n",
       "      <td>2019-12-27</td>\n",
       "      <td>69.889999</td>\n",
       "      <td>158.960007</td>\n",
       "      <td>72.449997</td>\n",
       "      <td>119.589996</td>\n",
       "      <td>338920.0</td>\n",
       "      <td>89.440002</td>\n",
       "      <td>126.089996</td>\n",
       "      <td>35.349998</td>\n",
       "      <td>67.594498</td>\n",
       "      <td>139.139999</td>\n",
       "    </tr>\n",
       "    <tr>\n",
       "      <th>14598</th>\n",
       "      <td>2019-12-30</td>\n",
       "      <td>69.480003</td>\n",
       "      <td>157.589996</td>\n",
       "      <td>72.879997</td>\n",
       "      <td>119.400002</td>\n",
       "      <td>338750.0</td>\n",
       "      <td>88.639999</td>\n",
       "      <td>124.470001</td>\n",
       "      <td>35.150002</td>\n",
       "      <td>66.806999</td>\n",
       "      <td>138.630005</td>\n",
       "    </tr>\n",
       "    <tr>\n",
       "      <th>14599</th>\n",
       "      <td>2019-12-31</td>\n",
       "      <td>69.779999</td>\n",
       "      <td>157.699997</td>\n",
       "      <td>73.412498</td>\n",
       "      <td>118.839996</td>\n",
       "      <td>339590.0</td>\n",
       "      <td>89.279999</td>\n",
       "      <td>124.900002</td>\n",
       "      <td>35.220001</td>\n",
       "      <td>66.850998</td>\n",
       "      <td>139.399994</td>\n",
       "    </tr>\n",
       "  </tbody>\n",
       "</table>\n",
       "<p>2516 rows × 11 columns</p>\n",
       "</div>"
      ],
      "text/plain": [
       "            Date        XOM        MSFT       AAPL         WMT     BRK-A  \\\n",
       "12084 2010-01-04  69.150002   30.950001   7.643214   54.230000   99600.0   \n",
       "12085 2010-01-05  69.419998   30.959999   7.656429   53.689999   99710.0   \n",
       "12086 2010-01-06  70.019997   30.770000   7.534643   53.570000   99850.0   \n",
       "12087 2010-01-07  69.800003   30.450001   7.520714   53.599998  100000.0   \n",
       "12088 2010-01-08  69.519997   30.660000   7.570714   53.330002  100300.0   \n",
       "...          ...        ...         ...        ...         ...       ...   \n",
       "14595 2019-12-24  70.019997  157.380005  71.067497  119.510002  338390.0   \n",
       "14596 2019-12-26  70.129997  158.669998  72.477501  119.519997  339650.0   \n",
       "14597 2019-12-27  69.889999  158.960007  72.449997  119.589996  338920.0   \n",
       "14598 2019-12-30  69.480003  157.589996  72.879997  119.400002  338750.0   \n",
       "14599 2019-12-31  69.779999  157.699997  73.412498  118.839996  339590.0   \n",
       "\n",
       "               GE          PG        BAC       GOOG         JPM  \n",
       "12084  118.846153   61.119999  15.690000  15.610239   42.849998  \n",
       "12085  119.461540   61.139999  16.200001  15.541497   43.680000  \n",
       "12086  118.846153   60.849998  16.389999  15.149715   43.919998  \n",
       "12087  125.000000   60.520000  16.930000  14.797037   44.790001  \n",
       "12088  127.692307   60.439999  16.780001  14.994298   44.680000  \n",
       "...           ...         ...        ...        ...         ...  \n",
       "14595   89.519997  125.220001  35.220001  67.178001  137.580002  \n",
       "14596   89.839996  125.220001  35.520000  68.019997  139.039993  \n",
       "14597   89.440002  126.089996  35.349998  67.594498  139.139999  \n",
       "14598   88.639999  124.470001  35.150002  66.806999  138.630005  \n",
       "14599   89.279999  124.900002  35.220001  66.850998  139.399994  \n",
       "\n",
       "[2516 rows x 11 columns]"
      ]
     },
     "execution_count": 6,
     "metadata": {},
     "output_type": "execute_result"
    }
   ],
   "source": [
    "comb_closes_2010_2020\n"
   ]
  },
  {
   "cell_type": "code",
   "execution_count": 1,
   "metadata": {},
   "outputs": [
    {
     "ename": "NameError",
     "evalue": "name 'comb_closes_2010_2020' is not defined",
     "output_type": "error",
     "traceback": [
      "\u001b[0;31m---------------------------------------------------------------------------\u001b[0m",
      "\u001b[0;31mNameError\u001b[0m                                 Traceback (most recent call last)",
      "\u001b[0;32m<ipython-input-1-7e80fe8acd0c>\u001b[0m in \u001b[0;36m<module>\u001b[0;34m\u001b[0m\n\u001b[1;32m      3\u001b[0m \u001b[0;34m\u001b[0m\u001b[0m\n\u001b[1;32m      4\u001b[0m print(\" \\nCount total NaN at each column in a DataFrame : \\n\\n\",\n\u001b[0;32m----> 5\u001b[0;31m       comb_closes_2010_2020.isnull().sum())\n\u001b[0m\u001b[1;32m      6\u001b[0m \u001b[0;34m\u001b[0m\u001b[0m\n\u001b[1;32m      7\u001b[0m \u001b[0;31m# No missings, looks good.\u001b[0m\u001b[0;34m\u001b[0m\u001b[0;34m\u001b[0m\u001b[0;34m\u001b[0m\u001b[0m\n",
      "\u001b[0;31mNameError\u001b[0m: name 'comb_closes_2010_2020' is not defined"
     ]
    }
   ],
   "source": [
    "# Make sure there are no missing values:\n",
    "\n",
    "\n",
    "print(\" \\nCount total NaN at each column in a DataFrame : \\n\\n\",\n",
    "      comb_closes_2010_2020.isnull().sum())\n",
    "\n",
    "# No missings, looks good.\n"
   ]
  },
  {
   "cell_type": "markdown",
   "metadata": {},
   "source": [
    "Some of the companies in today's biggest ten have stock data as far back as 1962, but that's 1) not nearly for all companies.\n",
    "2) not so great data then.\n",
    "\n",
    "Hence, I restrict myself to the years 2010 - 2019, excluding financial crisis and the Corona pandemic.\n"
   ]
  },
  {
   "cell_type": "markdown",
   "metadata": {},
   "source": [
    "Next step: Create neutral graphs for all stocks, all time periods. Take a look at how a \"random\" graph would look like."
   ]
  },
  {
   "cell_type": "code",
   "execution_count": null,
   "metadata": {},
   "outputs": [],
   "source": [
    "\n",
    "for symbol in top_ten_2010:\n",
    "\n",
    "    fig = px.line(comb_closes_2010_2020, x=\"Date\", \n",
    "                    y=symbol,\n",
    "                    title='Stock price {}'.format(symbol),\n",
    "                    )\n",
    "    #fig.show()\n",
    "    fig.write_image(\"{}_2010_2020.png\".format(symbol))"
   ]
  },
  {
   "cell_type": "code",
   "execution_count": null,
   "metadata": {},
   "outputs": [],
   "source": [
    "# Import the data.\n",
    "\n",
    "import pandas as pd\n",
    "\n",
    "# df = pd.read_csv('AMZN_stock_prices_new.csv', sep=\",\")\n",
    "\n",
    "df= pd.read_csv('orig/AAPL.csv', sep=\",\")\n",
    "\n",
    "\n",
    "# 2. TODO: Are closing prices the correct tool?\n",
    "\n",
    "df[\"Stock price\"]=df[\"Close\"]\n",
    "df[\"Time\"] = df.index\n",
    "\n",
    "# df.dtypes"
   ]
  },
  {
   "cell_type": "code",
   "execution_count": 15,
   "metadata": {},
   "outputs": [],
   "source": [
    "# TODO: Make code flexible for large range of stock symbols.\n",
    "\n",
    "# TODO: Design choice; which time period to use, which average?\n",
    "\n",
    "# TODO: How many trading dates?\n",
    "\n",
    "# TODO: Calc average returns; geometric mean?\n",
    "\n",
    "def calc_avg_monthly_return(data, trading_days_per_month):\n",
    "    ''' Function that generates average monthly return, as this is the relevant metric to show.\n",
    "        Assumes the data is already ordered chronologically\n",
    "        TODO\n",
    "    '''\n",
    "\n",
    "    total_rel_change = data.iloc[-1] / data.iloc[1]\n",
    "    log_change = np.log(total_rel_change)\n",
    "    daily_log_ret = log_change / len(data)\n",
    "\n",
    "    monthly_ret = daily_log_ret * trading_days_per_month\n",
    "    \n",
    "    return monthly_ret\n",
    "\n"
   ]
  },
  {
   "cell_type": "code",
   "execution_count": 22,
   "metadata": {},
   "outputs": [
    {
     "data": {
      "text/plain": [
       "{'XOM': 1.0051858399650198,\n",
       " 'MSFT': 5.0936693182709725,\n",
       " 'AAPL': 9.58834699570779,\n",
       " 'WMT': 2.213447536104443,\n",
       " 'BRK-A': 3.405776752582489,\n",
       " 'GE': 0.74735349134123,\n",
       " 'PG': 2.0428525358660865,\n",
       " 'BAC': 2.1740740016003706,\n",
       " 'GOOG': 4.301451655525848,\n",
       " 'JPM': 3.191391804029304}"
      ]
     },
     "execution_count": 22,
     "metadata": {},
     "output_type": "execute_result"
    }
   ],
   "source": [
    "total_ret = dict()\n",
    "\n",
    "for symbol in top_ten_2010:\n",
    "    total_ret[symbol]= comb_closes_2010_2020[symbol].iloc[-1] /  comb_closes_2010_2020[symbol].iloc[1]\n",
    "\n",
    "\n",
    "total_ret"
   ]
  },
  {
   "cell_type": "code",
   "execution_count": 23,
   "metadata": {},
   "outputs": [],
   "source": [
    "total_return_values = total_ret.values()\n",
    "avg_total_ret = sum(total_return_values)/10\n",
    "\n",
    "avg_monthly_ret = sum(total_return_values)/10 / len(comb_closes_2010_2020[\"AAPL\"]) * 20\n",
    "\n",
    "\n",
    "\n",
    "\n"
   ]
  },
  {
   "cell_type": "code",
   "execution_count": 26,
   "metadata": {},
   "outputs": [
    {
     "data": {
      "text/plain": [
       "1.010191556421465"
      ]
     },
     "execution_count": 26,
     "metadata": {},
     "output_type": "execute_result"
    }
   ],
   "source": [
    " "
   ]
  },
  {
   "cell_type": "code",
   "execution_count": 16,
   "metadata": {},
   "outputs": [
    {
     "data": {
      "text/plain": [
       "{'XOM': 4.111637364368373e-05,\n",
       " 'MSFT': 0.012941164217199888,\n",
       " 'AAPL': 0.017969383994767742,\n",
       " 'WMT': 0.006315987846793879,\n",
       " 'BRK-A': 0.009741439068007937,\n",
       " 'GE': -0.0023149204382604646,\n",
       " 'PG': 0.005678435079789811,\n",
       " 'BAC': 0.0061733134141040286,\n",
       " 'GOOG': 0.011597397138598704,\n",
       " 'JPM': 0.00922461942645601}"
      ]
     },
     "execution_count": 16,
     "metadata": {},
     "output_type": "execute_result"
    }
   ],
   "source": [
    "# Stub: Loop over companies\n",
    "\n",
    "avg_monthly_ret = dict()\n",
    "avg_mon_list = list()\n",
    "\n",
    "total_ret = dict()\n",
    "\n",
    "for symbol in top_ten_2010:\n",
    "    avg_monthly_ret[symbol] = calc_avg_monthly_return(comb_closes_2010_2020[symbol], 20)\n",
    "    avg_mon_list.append(calc_avg_monthly_return(comb_closes_2010_2020[symbol], 20))\n",
    "\n",
    "test_avg= sum(avg_mon_list)/len(avg_mon_list)\n",
    "\n",
    "test_avg\n",
    "\n",
    "avg_monthly_ret"
   ]
  },
  {
   "cell_type": "code",
   "execution_count": 18,
   "metadata": {},
   "outputs": [
    {
     "data": {
      "text/plain": [
       "0.007736793612110123"
      ]
     },
     "execution_count": 18,
     "metadata": {},
     "output_type": "execute_result"
    }
   ],
   "source": [
    "\n",
    "\n",
    "# Average return of stocks per month. \n",
    "# avg_monthly_ret\n",
    "\n",
    "test_avg\n",
    "\n",
    "# import csv\n",
    "\n",
    "# with open('test.csv', 'w') as f:\n",
    "#     for key in avg_monthly_ret.keys():\n",
    "#         f.write(\"%s,%s\\n\"%(key,avg_monthly_ret[key]))\n"
   ]
  },
  {
   "cell_type": "code",
   "execution_count": 10,
   "metadata": {},
   "outputs": [
    {
     "ename": "NameError",
     "evalue": "name 'test_avg' is not defined",
     "output_type": "error",
     "traceback": [
      "\u001b[0;31m---------------------------------------------------------------------------\u001b[0m",
      "\u001b[0;31mNameError\u001b[0m                                 Traceback (most recent call last)",
      "\u001b[0;32m<ipython-input-10-8f1223382231>\u001b[0m in \u001b[0;36m<module>\u001b[0;34m\u001b[0m\n\u001b[1;32m      1\u001b[0m \u001b[0;31m#Average monthly returns.\u001b[0m\u001b[0;34m\u001b[0m\u001b[0;34m\u001b[0m\u001b[0;34m\u001b[0m\u001b[0m\n\u001b[1;32m      2\u001b[0m \u001b[0;34m\u001b[0m\u001b[0m\n\u001b[0;32m----> 3\u001b[0;31m \u001b[0mtest_avg\u001b[0m\u001b[0;34m\u001b[0m\u001b[0;34m\u001b[0m\u001b[0m\n\u001b[0m\u001b[1;32m      4\u001b[0m \u001b[0mavg_mon_list\u001b[0m\u001b[0;34m\u001b[0m\u001b[0;34m\u001b[0m\u001b[0m\n\u001b[1;32m      5\u001b[0m \u001b[0;34m\u001b[0m\u001b[0m\n",
      "\u001b[0;31mNameError\u001b[0m: name 'test_avg' is not defined"
     ]
    }
   ],
   "source": [
    "#Average monthly returns.\n",
    "\n",
    "test_avg\n",
    "avg_mon_list\n",
    "\n",
    "# check whether they are accurately calculated: should accumulate up to total return\n",
    "\n",
    "total_growth = dict()\n",
    "for symbol in top_ten_2010:\n",
    "    total_growth[symbol] = comb_closes_2010_2020[symbol].iloc[-1]/comb_closes_2010_2020[symbol].iloc[1]\n",
    "\n",
    "total_growth\n",
    "\n",
    "# Apple e.g. 10x increase, XOM stable. Makes sense when eyeballing 10year graphs.\n",
    "\n",
    "total_days = len(comb_closes_2010_2020[\"AAPL\"])\n",
    "\n",
    "\n",
    "log_test_aapl = np.log(1+ avg_monthly_ret[\"AAPL\"]) * total_days / 20\n"
   ]
  },
  {
   "cell_type": "code",
   "execution_count": null,
   "metadata": {},
   "outputs": [],
   "source": [
    "top_ten_2010 = (\n",
    "    \"XOM\",\n",
    "    \"MSFT\",\n",
    "    \"AAPL\",\n",
    "    \"WMT\",\n",
    "    \"BRK-A\",\n",
    "    \"GE\",\n",
    "    \"PG\",\n",
    "    \"BAC\",\n",
    "    \"GOOG\",\n",
    "    \"JPM\")"
   ]
  },
  {
   "cell_type": "code",
   "execution_count": 9,
   "metadata": {},
   "outputs": [
    {
     "ename": "NameError",
     "evalue": "name 'avg_monthly_ret' is not defined",
     "output_type": "error",
     "traceback": [
      "\u001b[0;31m---------------------------------------------------------------------------\u001b[0m",
      "\u001b[0;31mNameError\u001b[0m                                 Traceback (most recent call last)",
      "\u001b[0;32m<ipython-input-9-a74fe1faf008>\u001b[0m in \u001b[0;36m<module>\u001b[0;34m\u001b[0m\n\u001b[1;32m      5\u001b[0m \u001b[0;34m\u001b[0m\u001b[0m\n\u001b[1;32m      6\u001b[0m \u001b[0;32mfor\u001b[0m \u001b[0msymbol\u001b[0m \u001b[0;32min\u001b[0m \u001b[0mtop_ten_2010\u001b[0m\u001b[0;34m:\u001b[0m\u001b[0;34m\u001b[0m\u001b[0;34m\u001b[0m\u001b[0m\n\u001b[0;32m----> 7\u001b[0;31m     \u001b[0mlog_test\u001b[0m \u001b[0;34m=\u001b[0m \u001b[0mnp\u001b[0m\u001b[0;34m.\u001b[0m\u001b[0mlog\u001b[0m\u001b[0;34m(\u001b[0m\u001b[0;36m1\u001b[0m\u001b[0;34m+\u001b[0m \u001b[0mavg_monthly_ret\u001b[0m\u001b[0;34m[\u001b[0m\u001b[0msymbol\u001b[0m\u001b[0;34m]\u001b[0m\u001b[0;34m)\u001b[0m \u001b[0;34m*\u001b[0m \u001b[0mtotal_days\u001b[0m \u001b[0;34m/\u001b[0m \u001b[0;36m20\u001b[0m\u001b[0;34m\u001b[0m\u001b[0;34m\u001b[0m\u001b[0m\n\u001b[0m\u001b[1;32m      8\u001b[0m     \u001b[0mcheck_monthly_returns\u001b[0m\u001b[0;34m[\u001b[0m\u001b[0msymbol\u001b[0m\u001b[0;34m]\u001b[0m\u001b[0;34m=\u001b[0m \u001b[0mnp\u001b[0m\u001b[0;34m.\u001b[0m\u001b[0mexp\u001b[0m\u001b[0;34m(\u001b[0m\u001b[0mlog_test\u001b[0m\u001b[0;34m)\u001b[0m\u001b[0;34m\u001b[0m\u001b[0;34m\u001b[0m\u001b[0m\n\u001b[1;32m      9\u001b[0m \u001b[0;34m\u001b[0m\u001b[0m\n",
      "\u001b[0;31mNameError\u001b[0m: name 'avg_monthly_ret' is not defined"
     ]
    }
   ],
   "source": [
    "# test_growth_aapl\n",
    "\n",
    "check_monthly_returns= dict()\n",
    "\n",
    "\n",
    "for symbol in top_ten_2010:\n",
    "    log_test = np.log(1+ avg_monthly_ret[symbol]) * total_days / 20\n",
    "    check_monthly_returns[symbol]= np.exp(log_test)\n",
    "\n",
    "# yields 9.398, not too far away from calculated 9.5x increase\n",
    "# TODO; worth it to check again.\n",
    "\n",
    "# Comparison looks fine for all. \n",
    "check_monthly_returns\n",
    "total_growth\n"
   ]
  },
  {
   "cell_type": "code",
   "execution_count": null,
   "metadata": {},
   "outputs": [],
   "source": [
    "# TODO Should I just generate all \"possible pictures?\"\n",
    "# TODO I.e., any 20 period?\n",
    "\n",
    "# TODO \"random chart\" would be fun, but probably too random.\n",
    "\n",
    "# TODO: How to make graphs somewhat uniform:\n",
    "#   - make time run from 0 to 60?\n",
    "#   - standardize stock price at 100 at date 60: ensures that +XX% increases are easily accounted for. \n",
    "\n",
    "\n",
    "# TODO: Cookbook for this; \n",
    "# - take a random time interval of length X, starting point T, end point T+X\n",
    "# - \"cut\" interval into history and \"future\"\n",
    "# - normalize stock prices to have end of history p=100\n",
    "# - \"normalize\" time to be from 0 to X.\n",
    "# Draw graphs: \n",
    "#       1.) neutral whole graph\n",
    "#       2.) neutral graph just history\n",
    "#       3.) simple prediction: One time trend\n",
    "#       4.) more complex prediction; two time trends\n",
    "#       5.) most complex prediction; three time trends\n",
    "# Save graphs according to recognizable naming structure:\n",
    "# symbol + start time + length + hist/pred + neutral/simple/complex\n",
    "\n",
    "# Open questions: Not sure, think I can just go. \n",
    "\n",
    "\n"
   ]
  },
  {
   "cell_type": "code",
   "execution_count": null,
   "metadata": {},
   "outputs": [],
   "source": [
    "# Try out whole-range graphs\n",
    "\n",
    "# gen_graphs_incl_pred(data=comb_closes_2010_2020, symbol=\"AAPL\", start=0, hist_length=60, pred_length=20, model=\"neutral\")"
   ]
  },
  {
   "cell_type": "code",
   "execution_count": null,
   "metadata": {},
   "outputs": [],
   "source": [
    "## Generate neutral graphs, just the history.\n",
    "\n",
    "\n",
    "# Generate a large number of graphs for the timeline between 2010 and 2020.\n",
    "# for symbol in top_ten_2010:\n",
    "\n",
    "#     hist_len = 50\n",
    "#     pred_len = 10\n",
    "\n",
    "#     for start_time in range(0,len(comb_closes_2010_2020)-hist_len - pred_len, 60):\n",
    "\n",
    "#         graphing_functions.gen_graphs_neutral(comb_closes_2010_2020, symbol, start_time, hist_len, pred_len, \"neutral\")\n",
    "\n",
    "\n",
    "# gen_graphs_real_data_neutral(df, \"Close\", 300, 100, 10, \"test\")"
   ]
  },
  {
   "cell_type": "code",
   "execution_count": null,
   "metadata": {},
   "outputs": [],
   "source": [
    "# Generate neutral graphs including the prediction.\n",
    "\n",
    "# Generate a large number of graphs for the timeline between 2010 and 2020.\n",
    "# for symbol in top_ten_2010:\n",
    "\n",
    "#     hist_len = 50\n",
    "#     pred_len = 10\n",
    "\n",
    "#     for start_time in range(0,len(comb_closes_2010_2020)-hist_len - pred_len, 20):\n",
    "\n",
    "#         graphing_functions.gen_graphs_incl_pred(comb_closes_2010_2020, symbol, start_time, hist_len, pred_len, \"neutral\")\n",
    "\n"
   ]
  },
  {
   "cell_type": "code",
   "execution_count": null,
   "metadata": {},
   "outputs": [],
   "source": [
    "\n",
    "def task_get_plots(produces, depends_on, shift_point):\n",
    "    '''Task that generates the financial graphs picked by the persuader and later sent to the receiver.\n",
    "    Using truncated data, a naive linear estimation of the trend is fitted before and after \n",
    "    each possible switching point. The task then creates a graph per possible model, generating a full set \n",
    "    of charts that are displayed by a javascript slider in the oTree application.\n",
    "\n",
    "    Args:\n",
    "    \n",
    "        produces (path): path to export financial chart in the form of a jpg image.\n",
    "\n",
    "        depends_on (path): path where the data.csv file can be found.\n",
    "\n",
    "        shift_point (integer): point in the x-axis from where the model will be fitted.\n",
    "    '''\n",
    "    data_1 = pd.read_csv(depends_on)\n",
    "\n",
    "    trunc = 81\n",
    "    fig = px.line(data_1.head(trunc), x=\"Time\", \n",
    "                        y=\"Stock price\",\n",
    "                        labels={'number_obs':'Number of Observations', 'runtime':'runtime'},\n",
    "                        title='Development of a stock price',\n",
    "                        )\n",
    "    fig.update_layout(paper_bgcolor='#fff' )\n",
    "    fig.update_layout(plot_bgcolor='#fff' )\n",
    "    fig.update_yaxes(range=[0, data_1[\"Stock price\"].max()+100])\n",
    "    fig.update_xaxes(range=[0, trunc+20])\n",
    "\n",
    "    fig.add_shape(type=\"line\",\n",
    "        xref=\"x\", yref=\"y\",\n",
    "        x0=shift_point, y0=0, x1=shift_point, y1=data_1[\"Stock price\"].max()+100,\n",
    "        line=dict(\n",
    "            dash = \"dot\",\n",
    "            color=\"Black\",\n",
    "            width=3,\n",
    "        ),\n",
    "    )\n",
    "\n",
    "    fig.add_shape(type=\"line\",\n",
    "        xref=\"x\", yref=\"y\",\n",
    "        x0=shift_point, y0=data_1.iat[shift_point,1], x1=80, y1=data_1.iat[80,1],\n",
    "        line=dict(\n",
    "            color=\"LightSeaGreen\",\n",
    "            width=3,\n",
    "        ),\n",
    "    )\n",
    "\n",
    "    fig.add_shape(type=\"line\",\n",
    "        xref=\"x\", yref=\"y\",\n",
    "        x0=0, y0=data_1.iat[0,1], x1=shift_point, y1=data_1.iat[shift_point,1],\n",
    "        line=dict(\n",
    "            color=\"LightSeaGreen\",\n",
    "            width=3,\n",
    "        ),\n",
    "    )\n",
    "    #\n",
    "\n",
    "\n",
    "    # Calc the implied slope of second model to adjust the fits, draw predictions.\n",
    "\n",
    "    point_1 = data_1.iloc[shift_point].at[\"Stock price\"]\n",
    "\n",
    "    trunc_1 = trunc - 1 \n",
    "\n",
    "    point_2 = data_1.iloc[trunc_1].at[\"Stock price\"]\n",
    "\n",
    "    slope = 0\n",
    "    if trunc != shift_point:\n",
    "        slope= (point_2 - point_1) / (trunc_1-shift_point)\n",
    "\n",
    "\n",
    "    fig.add_shape(type=\"line\",\n",
    "        xref=\"x\", yref=\"y\",\n",
    "        x0=trunc-1, y0=point_2, x1=100, y1=point_2 + slope * (100-trunc),\n",
    "        line=dict(\n",
    "            dash = \"dot\",\n",
    "            color=\"LightSeaGreen\",\n",
    "            width=3,\n",
    "        ),\n",
    "    )\n",
    "\n",
    "\n",
    "\n",
    "    fig.write_image(produces)\n",
    "\n",
    "\n",
    "    pass\n",
    "\n"
   ]
  },
  {
   "cell_type": "code",
   "execution_count": null,
   "metadata": {},
   "outputs": [
    {
     "data": {
      "text/plain": [
       "0.013701288331697203"
      ]
     },
     "execution_count": 23,
     "metadata": {},
     "output_type": "execute_result"
    }
   ],
   "source": [
    "test= calc_avg_monthly_return(df[\"Stock price\"], 20)\n",
    "\n",
    "test"
   ]
  },
  {
   "cell_type": "code",
   "execution_count": null,
   "metadata": {},
   "outputs": [],
   "source": [
    "# Model messages.\n",
    "\n",
    "# Adapt the old syntax to run for real world data. \n",
    "\n"
   ]
  },
  {
   "cell_type": "code",
   "execution_count": null,
   "metadata": {},
   "outputs": [
    {
     "name": "stdout",
     "output_type": "stream",
     "text": [
      "0.659915200431368\n"
     ]
    }
   ],
   "source": [
    "# TODO: Trial run with model message\n",
    "\n",
    "graphing_functions.gen_graphs_two_trends(data=comb_closes_2010_2020, symbol=\"AAPL\", start=0, hist_length=50, pred_length=10, shift_point=40)\n"
   ]
  },
  {
   "cell_type": "code",
   "execution_count": null,
   "metadata": {},
   "outputs": [],
   "source": [
    "# Function for three total trends, two switching points.\n",
    "\n"
   ]
  },
  {
   "cell_type": "code",
   "execution_count": null,
   "metadata": {},
   "outputs": [
    {
     "name": "stdout",
     "output_type": "stream",
     "text": [
      "0.659915200431368\n"
     ]
    }
   ],
   "source": [
    "graphing_functions.gen_graphs_three_trends(data=comb_closes_2010_2020, symbol=\"AAPL\", start=0, hist_length=50, pred_length=10, shift_points=[20,40])"
   ]
  },
  {
   "cell_type": "code",
   "execution_count": null,
   "metadata": {},
   "outputs": [],
   "source": []
  },
  {
   "cell_type": "code",
   "execution_count": null,
   "metadata": {},
   "outputs": [
    {
     "data": {
      "text/html": [
       "<div>\n",
       "<style scoped>\n",
       "    .dataframe tbody tr th:only-of-type {\n",
       "        vertical-align: middle;\n",
       "    }\n",
       "\n",
       "    .dataframe tbody tr th {\n",
       "        vertical-align: top;\n",
       "    }\n",
       "\n",
       "    .dataframe thead th {\n",
       "        text-align: right;\n",
       "    }\n",
       "</style>\n",
       "<table border=\"1\" class=\"dataframe\">\n",
       "  <thead>\n",
       "    <tr style=\"text-align: right;\">\n",
       "      <th></th>\n",
       "      <th>Date</th>\n",
       "      <th>XOM</th>\n",
       "      <th>MSFT</th>\n",
       "      <th>AAPL</th>\n",
       "      <th>WMT</th>\n",
       "      <th>BRK-A</th>\n",
       "      <th>GE</th>\n",
       "      <th>PG</th>\n",
       "      <th>BAC</th>\n",
       "      <th>GOOG</th>\n",
       "      <th>JPM</th>\n",
       "    </tr>\n",
       "  </thead>\n",
       "  <tbody>\n",
       "    <tr>\n",
       "      <th>12084</th>\n",
       "      <td>2010-01-04</td>\n",
       "      <td>1.000000</td>\n",
       "      <td>1.000000</td>\n",
       "      <td>1.000000</td>\n",
       "      <td>1.000000</td>\n",
       "      <td>1.000000</td>\n",
       "      <td>1.000000</td>\n",
       "      <td>1.000000</td>\n",
       "      <td>1.000000</td>\n",
       "      <td>1.000000</td>\n",
       "      <td>1.000000</td>\n",
       "    </tr>\n",
       "    <tr>\n",
       "      <th>12085</th>\n",
       "      <td>2010-01-05</td>\n",
       "      <td>1.003904</td>\n",
       "      <td>1.000323</td>\n",
       "      <td>1.001729</td>\n",
       "      <td>0.990042</td>\n",
       "      <td>1.001104</td>\n",
       "      <td>1.005178</td>\n",
       "      <td>1.000327</td>\n",
       "      <td>1.032505</td>\n",
       "      <td>0.995596</td>\n",
       "      <td>1.019370</td>\n",
       "    </tr>\n",
       "    <tr>\n",
       "      <th>12086</th>\n",
       "      <td>2010-01-06</td>\n",
       "      <td>1.012581</td>\n",
       "      <td>0.994184</td>\n",
       "      <td>0.985795</td>\n",
       "      <td>0.987830</td>\n",
       "      <td>1.002510</td>\n",
       "      <td>1.000000</td>\n",
       "      <td>0.995582</td>\n",
       "      <td>1.044614</td>\n",
       "      <td>0.970499</td>\n",
       "      <td>1.024971</td>\n",
       "    </tr>\n",
       "    <tr>\n",
       "      <th>12087</th>\n",
       "      <td>2010-01-07</td>\n",
       "      <td>1.009400</td>\n",
       "      <td>0.983845</td>\n",
       "      <td>0.983973</td>\n",
       "      <td>0.988383</td>\n",
       "      <td>1.004016</td>\n",
       "      <td>1.051780</td>\n",
       "      <td>0.990183</td>\n",
       "      <td>1.079031</td>\n",
       "      <td>0.947906</td>\n",
       "      <td>1.045274</td>\n",
       "    </tr>\n",
       "    <tr>\n",
       "      <th>12088</th>\n",
       "      <td>2010-01-08</td>\n",
       "      <td>1.005351</td>\n",
       "      <td>0.990630</td>\n",
       "      <td>0.990514</td>\n",
       "      <td>0.983404</td>\n",
       "      <td>1.007028</td>\n",
       "      <td>1.074434</td>\n",
       "      <td>0.988874</td>\n",
       "      <td>1.069471</td>\n",
       "      <td>0.960543</td>\n",
       "      <td>1.042707</td>\n",
       "    </tr>\n",
       "  </tbody>\n",
       "</table>\n",
       "</div>"
      ],
      "text/plain": [
       "            Date       XOM      MSFT      AAPL       WMT     BRK-A        GE  \\\n",
       "12084 2010-01-04  1.000000  1.000000  1.000000  1.000000  1.000000  1.000000   \n",
       "12085 2010-01-05  1.003904  1.000323  1.001729  0.990042  1.001104  1.005178   \n",
       "12086 2010-01-06  1.012581  0.994184  0.985795  0.987830  1.002510  1.000000   \n",
       "12087 2010-01-07  1.009400  0.983845  0.983973  0.988383  1.004016  1.051780   \n",
       "12088 2010-01-08  1.005351  0.990630  0.990514  0.983404  1.007028  1.074434   \n",
       "\n",
       "             PG       BAC      GOOG       JPM  \n",
       "12084  1.000000  1.000000  1.000000  1.000000  \n",
       "12085  1.000327  1.032505  0.995596  1.019370  \n",
       "12086  0.995582  1.044614  0.970499  1.024971  \n",
       "12087  0.990183  1.079031  0.947906  1.045274  \n",
       "12088  0.988874  1.069471  0.960543  1.042707  "
      ]
     },
     "execution_count": 28,
     "metadata": {},
     "output_type": "execute_result"
    }
   ],
   "source": [
    "# Calculate the variance in the data.\n",
    "\n",
    "# TODO: Calculate the variance in the returns rather than the stock prices; otherwise, stock prices with\n",
    "# huge increases over the ten years might exhibit extremely large variance\n",
    "\n",
    "# Still need to normalize the stocks for comparable variances\n",
    "\n",
    "# Normalize stocks by beginning of period price.\n",
    "\n",
    "comb_closes_norm_2010_2020 = comb_closes_2010_2020.copy()\n",
    "\n",
    "for symbol in top_ten_2010:\n",
    "    comb_closes_norm_2010_2020[symbol] = comb_closes_2010_2020[symbol] / comb_closes_2010_2020[symbol].iloc[0]\n",
    "\n",
    "\n",
    "\n",
    "comb_closes_norm_2010_2020.head()"
   ]
  },
  {
   "cell_type": "code",
   "execution_count": null,
   "metadata": {},
   "outputs": [
    {
     "name": "stderr",
     "output_type": "stream",
     "text": [
      "/Users/philipp/opt/anaconda3/lib/python3.8/site-packages/pandas/core/indexing.py:1637: SettingWithCopyWarning:\n",
      "\n",
      "\n",
      "A value is trying to be set on a copy of a slice from a DataFrame\n",
      "\n",
      "See the caveats in the documentation: https://pandas.pydata.org/pandas-docs/stable/user_guide/indexing.html#returning-a-view-versus-a-copy\n",
      "\n"
     ]
    },
    {
     "ename": "ValueError",
     "evalue": "cannot set using a list-like indexer with a different length than the value",
     "output_type": "error",
     "traceback": [
      "\u001b[0;31m---------------------------------------------------------------------------\u001b[0m",
      "\u001b[0;31mValueError\u001b[0m                                Traceback (most recent call last)",
      "\u001b[0;32m<ipython-input-29-2709f9e1bf6c>\u001b[0m in \u001b[0;36m<module>\u001b[0;34m\u001b[0m\n\u001b[1;32m      5\u001b[0m \u001b[0;32mfor\u001b[0m \u001b[0msymbol\u001b[0m \u001b[0;32min\u001b[0m \u001b[0mtop_ten_2010\u001b[0m\u001b[0;34m:\u001b[0m\u001b[0;34m\u001b[0m\u001b[0;34m\u001b[0m\u001b[0m\n\u001b[1;32m      6\u001b[0m     \u001b[0;32mfor\u001b[0m \u001b[0mi\u001b[0m \u001b[0;32min\u001b[0m \u001b[0mrange\u001b[0m\u001b[0;34m(\u001b[0m\u001b[0;36m0\u001b[0m\u001b[0;34m,\u001b[0m \u001b[0mlen\u001b[0m\u001b[0;34m(\u001b[0m\u001b[0mdaily_returns\u001b[0m\u001b[0;34m[\u001b[0m\u001b[0msymbol\u001b[0m\u001b[0;34m]\u001b[0m\u001b[0;34m)\u001b[0m\u001b[0;34m-\u001b[0m\u001b[0;36m2\u001b[0m\u001b[0;34m)\u001b[0m\u001b[0;34m:\u001b[0m\u001b[0;34m\u001b[0m\u001b[0;34m\u001b[0m\u001b[0m\n\u001b[0;32m----> 7\u001b[0;31m         \u001b[0mdaily_returns\u001b[0m\u001b[0;34m[\u001b[0m\u001b[0msymbol\u001b[0m\u001b[0;34m]\u001b[0m\u001b[0;34m.\u001b[0m\u001b[0miloc\u001b[0m\u001b[0;34m[\u001b[0m\u001b[0;34m[\u001b[0m\u001b[0mi\u001b[0m\u001b[0;34m]\u001b[0m\u001b[0;34m]\u001b[0m \u001b[0;34m=\u001b[0m \u001b[0;34m(\u001b[0m\u001b[0mcomb_closes_2010_2020\u001b[0m\u001b[0;34m[\u001b[0m\u001b[0msymbol\u001b[0m\u001b[0;34m]\u001b[0m\u001b[0;34m.\u001b[0m\u001b[0miloc\u001b[0m\u001b[0;34m[\u001b[0m\u001b[0;34m[\u001b[0m\u001b[0mi\u001b[0m\u001b[0;34m+\u001b[0m\u001b[0;36m1\u001b[0m\u001b[0;34m]\u001b[0m\u001b[0;34m]\u001b[0m \u001b[0;34m-\u001b[0m \u001b[0mcomb_closes_2010_2020\u001b[0m\u001b[0;34m[\u001b[0m\u001b[0msymbol\u001b[0m\u001b[0;34m]\u001b[0m\u001b[0;34m.\u001b[0m\u001b[0miloc\u001b[0m\u001b[0;34m[\u001b[0m\u001b[0;34m[\u001b[0m\u001b[0mi\u001b[0m\u001b[0;34m]\u001b[0m\u001b[0;34m]\u001b[0m\u001b[0;34m)\u001b[0m\u001b[0;34m/\u001b[0m \u001b[0mcomb_closes_2010_2020\u001b[0m\u001b[0;34m[\u001b[0m\u001b[0msymbol\u001b[0m\u001b[0;34m]\u001b[0m\u001b[0;34m.\u001b[0m\u001b[0miloc\u001b[0m\u001b[0;34m[\u001b[0m\u001b[0;34m[\u001b[0m\u001b[0mi\u001b[0m\u001b[0;34m]\u001b[0m\u001b[0;34m]\u001b[0m\u001b[0;34m\u001b[0m\u001b[0;34m\u001b[0m\u001b[0m\n\u001b[0m\u001b[1;32m      8\u001b[0m \u001b[0;34m\u001b[0m\u001b[0m\n\u001b[1;32m      9\u001b[0m \u001b[0mdaily_returns\u001b[0m\u001b[0;34m.\u001b[0m\u001b[0mhead\u001b[0m\u001b[0;34m(\u001b[0m\u001b[0;34m)\u001b[0m\u001b[0;34m\u001b[0m\u001b[0;34m\u001b[0m\u001b[0m\n",
      "\u001b[0;32m~/opt/anaconda3/lib/python3.8/site-packages/pandas/core/indexing.py\u001b[0m in \u001b[0;36m__setitem__\u001b[0;34m(self, key, value)\u001b[0m\n\u001b[1;32m    690\u001b[0m \u001b[0;34m\u001b[0m\u001b[0m\n\u001b[1;32m    691\u001b[0m         \u001b[0miloc\u001b[0m \u001b[0;34m=\u001b[0m \u001b[0mself\u001b[0m \u001b[0;32mif\u001b[0m \u001b[0mself\u001b[0m\u001b[0;34m.\u001b[0m\u001b[0mname\u001b[0m \u001b[0;34m==\u001b[0m \u001b[0;34m\"iloc\"\u001b[0m \u001b[0;32melse\u001b[0m \u001b[0mself\u001b[0m\u001b[0;34m.\u001b[0m\u001b[0mobj\u001b[0m\u001b[0;34m.\u001b[0m\u001b[0miloc\u001b[0m\u001b[0;34m\u001b[0m\u001b[0;34m\u001b[0m\u001b[0m\n\u001b[0;32m--> 692\u001b[0;31m         \u001b[0miloc\u001b[0m\u001b[0;34m.\u001b[0m\u001b[0m_setitem_with_indexer\u001b[0m\u001b[0;34m(\u001b[0m\u001b[0mindexer\u001b[0m\u001b[0;34m,\u001b[0m \u001b[0mvalue\u001b[0m\u001b[0;34m,\u001b[0m \u001b[0mself\u001b[0m\u001b[0;34m.\u001b[0m\u001b[0mname\u001b[0m\u001b[0;34m)\u001b[0m\u001b[0;34m\u001b[0m\u001b[0;34m\u001b[0m\u001b[0m\n\u001b[0m\u001b[1;32m    693\u001b[0m \u001b[0;34m\u001b[0m\u001b[0m\n\u001b[1;32m    694\u001b[0m     \u001b[0;32mdef\u001b[0m \u001b[0m_validate_key\u001b[0m\u001b[0;34m(\u001b[0m\u001b[0mself\u001b[0m\u001b[0;34m,\u001b[0m \u001b[0mkey\u001b[0m\u001b[0;34m,\u001b[0m \u001b[0maxis\u001b[0m\u001b[0;34m:\u001b[0m \u001b[0mint\u001b[0m\u001b[0;34m)\u001b[0m\u001b[0;34m:\u001b[0m\u001b[0;34m\u001b[0m\u001b[0;34m\u001b[0m\u001b[0m\n",
      "\u001b[0;32m~/opt/anaconda3/lib/python3.8/site-packages/pandas/core/indexing.py\u001b[0m in \u001b[0;36m_setitem_with_indexer\u001b[0;34m(self, indexer, value, name)\u001b[0m\n\u001b[1;32m   1635\u001b[0m             \u001b[0mself\u001b[0m\u001b[0;34m.\u001b[0m\u001b[0m_setitem_with_indexer_split_path\u001b[0m\u001b[0;34m(\u001b[0m\u001b[0mindexer\u001b[0m\u001b[0;34m,\u001b[0m \u001b[0mvalue\u001b[0m\u001b[0;34m,\u001b[0m \u001b[0mname\u001b[0m\u001b[0;34m)\u001b[0m\u001b[0;34m\u001b[0m\u001b[0;34m\u001b[0m\u001b[0m\n\u001b[1;32m   1636\u001b[0m         \u001b[0;32melse\u001b[0m\u001b[0;34m:\u001b[0m\u001b[0;34m\u001b[0m\u001b[0;34m\u001b[0m\u001b[0m\n\u001b[0;32m-> 1637\u001b[0;31m             \u001b[0mself\u001b[0m\u001b[0;34m.\u001b[0m\u001b[0m_setitem_single_block\u001b[0m\u001b[0;34m(\u001b[0m\u001b[0mindexer\u001b[0m\u001b[0;34m,\u001b[0m \u001b[0mvalue\u001b[0m\u001b[0;34m,\u001b[0m \u001b[0mname\u001b[0m\u001b[0;34m)\u001b[0m\u001b[0;34m\u001b[0m\u001b[0;34m\u001b[0m\u001b[0m\n\u001b[0m\u001b[1;32m   1638\u001b[0m \u001b[0;34m\u001b[0m\u001b[0m\n\u001b[1;32m   1639\u001b[0m     \u001b[0;32mdef\u001b[0m \u001b[0m_setitem_with_indexer_split_path\u001b[0m\u001b[0;34m(\u001b[0m\u001b[0mself\u001b[0m\u001b[0;34m,\u001b[0m \u001b[0mindexer\u001b[0m\u001b[0;34m,\u001b[0m \u001b[0mvalue\u001b[0m\u001b[0;34m,\u001b[0m \u001b[0mname\u001b[0m\u001b[0;34m:\u001b[0m \u001b[0mstr\u001b[0m\u001b[0;34m)\u001b[0m\u001b[0;34m:\u001b[0m\u001b[0;34m\u001b[0m\u001b[0;34m\u001b[0m\u001b[0m\n",
      "\u001b[0;32m~/opt/anaconda3/lib/python3.8/site-packages/pandas/core/indexing.py\u001b[0m in \u001b[0;36m_setitem_single_block\u001b[0;34m(self, indexer, value, name)\u001b[0m\n\u001b[1;32m   1859\u001b[0m         \u001b[0;31m# actually do the set\u001b[0m\u001b[0;34m\u001b[0m\u001b[0;34m\u001b[0m\u001b[0;34m\u001b[0m\u001b[0m\n\u001b[1;32m   1860\u001b[0m         \u001b[0mself\u001b[0m\u001b[0;34m.\u001b[0m\u001b[0mobj\u001b[0m\u001b[0;34m.\u001b[0m\u001b[0m_consolidate_inplace\u001b[0m\u001b[0;34m(\u001b[0m\u001b[0;34m)\u001b[0m\u001b[0;34m\u001b[0m\u001b[0;34m\u001b[0m\u001b[0m\n\u001b[0;32m-> 1861\u001b[0;31m         \u001b[0mself\u001b[0m\u001b[0;34m.\u001b[0m\u001b[0mobj\u001b[0m\u001b[0;34m.\u001b[0m\u001b[0m_mgr\u001b[0m \u001b[0;34m=\u001b[0m \u001b[0mself\u001b[0m\u001b[0;34m.\u001b[0m\u001b[0mobj\u001b[0m\u001b[0;34m.\u001b[0m\u001b[0m_mgr\u001b[0m\u001b[0;34m.\u001b[0m\u001b[0msetitem\u001b[0m\u001b[0;34m(\u001b[0m\u001b[0mindexer\u001b[0m\u001b[0;34m=\u001b[0m\u001b[0mindexer\u001b[0m\u001b[0;34m,\u001b[0m \u001b[0mvalue\u001b[0m\u001b[0;34m=\u001b[0m\u001b[0mvalue\u001b[0m\u001b[0;34m)\u001b[0m\u001b[0;34m\u001b[0m\u001b[0;34m\u001b[0m\u001b[0m\n\u001b[0m\u001b[1;32m   1862\u001b[0m         \u001b[0mself\u001b[0m\u001b[0;34m.\u001b[0m\u001b[0mobj\u001b[0m\u001b[0;34m.\u001b[0m\u001b[0m_maybe_update_cacher\u001b[0m\u001b[0;34m(\u001b[0m\u001b[0mclear\u001b[0m\u001b[0;34m=\u001b[0m\u001b[0;32mTrue\u001b[0m\u001b[0;34m)\u001b[0m\u001b[0;34m\u001b[0m\u001b[0;34m\u001b[0m\u001b[0m\n\u001b[1;32m   1863\u001b[0m \u001b[0;34m\u001b[0m\u001b[0m\n",
      "\u001b[0;32m~/opt/anaconda3/lib/python3.8/site-packages/pandas/core/internals/managers.py\u001b[0m in \u001b[0;36msetitem\u001b[0;34m(self, indexer, value)\u001b[0m\n\u001b[1;32m    566\u001b[0m \u001b[0;34m\u001b[0m\u001b[0m\n\u001b[1;32m    567\u001b[0m     \u001b[0;32mdef\u001b[0m \u001b[0msetitem\u001b[0m\u001b[0;34m(\u001b[0m\u001b[0mself\u001b[0m\u001b[0;34m,\u001b[0m \u001b[0mindexer\u001b[0m\u001b[0;34m,\u001b[0m \u001b[0mvalue\u001b[0m\u001b[0;34m)\u001b[0m \u001b[0;34m->\u001b[0m \u001b[0;34m\"BlockManager\"\u001b[0m\u001b[0;34m:\u001b[0m\u001b[0;34m\u001b[0m\u001b[0;34m\u001b[0m\u001b[0m\n\u001b[0;32m--> 568\u001b[0;31m         \u001b[0;32mreturn\u001b[0m \u001b[0mself\u001b[0m\u001b[0;34m.\u001b[0m\u001b[0mapply\u001b[0m\u001b[0;34m(\u001b[0m\u001b[0;34m\"setitem\"\u001b[0m\u001b[0;34m,\u001b[0m \u001b[0mindexer\u001b[0m\u001b[0;34m=\u001b[0m\u001b[0mindexer\u001b[0m\u001b[0;34m,\u001b[0m \u001b[0mvalue\u001b[0m\u001b[0;34m=\u001b[0m\u001b[0mvalue\u001b[0m\u001b[0;34m)\u001b[0m\u001b[0;34m\u001b[0m\u001b[0;34m\u001b[0m\u001b[0m\n\u001b[0m\u001b[1;32m    569\u001b[0m \u001b[0;34m\u001b[0m\u001b[0m\n\u001b[1;32m    570\u001b[0m     \u001b[0;32mdef\u001b[0m \u001b[0mputmask\u001b[0m\u001b[0;34m(\u001b[0m\u001b[0mself\u001b[0m\u001b[0;34m,\u001b[0m \u001b[0mmask\u001b[0m\u001b[0;34m,\u001b[0m \u001b[0mnew\u001b[0m\u001b[0;34m,\u001b[0m \u001b[0malign\u001b[0m\u001b[0;34m:\u001b[0m \u001b[0mbool\u001b[0m \u001b[0;34m=\u001b[0m \u001b[0;32mTrue\u001b[0m\u001b[0;34m,\u001b[0m \u001b[0maxis\u001b[0m\u001b[0;34m:\u001b[0m \u001b[0mint\u001b[0m \u001b[0;34m=\u001b[0m \u001b[0;36m0\u001b[0m\u001b[0;34m)\u001b[0m\u001b[0;34m:\u001b[0m\u001b[0;34m\u001b[0m\u001b[0;34m\u001b[0m\u001b[0m\n",
      "\u001b[0;32m~/opt/anaconda3/lib/python3.8/site-packages/pandas/core/internals/managers.py\u001b[0m in \u001b[0;36mapply\u001b[0;34m(self, f, align_keys, ignore_failures, **kwargs)\u001b[0m\n\u001b[1;32m    425\u001b[0m                     \u001b[0mapplied\u001b[0m \u001b[0;34m=\u001b[0m \u001b[0mb\u001b[0m\u001b[0;34m.\u001b[0m\u001b[0mapply\u001b[0m\u001b[0;34m(\u001b[0m\u001b[0mf\u001b[0m\u001b[0;34m,\u001b[0m \u001b[0;34m**\u001b[0m\u001b[0mkwargs\u001b[0m\u001b[0;34m)\u001b[0m\u001b[0;34m\u001b[0m\u001b[0;34m\u001b[0m\u001b[0m\n\u001b[1;32m    426\u001b[0m                 \u001b[0;32melse\u001b[0m\u001b[0;34m:\u001b[0m\u001b[0;34m\u001b[0m\u001b[0;34m\u001b[0m\u001b[0m\n\u001b[0;32m--> 427\u001b[0;31m                     \u001b[0mapplied\u001b[0m \u001b[0;34m=\u001b[0m \u001b[0mgetattr\u001b[0m\u001b[0;34m(\u001b[0m\u001b[0mb\u001b[0m\u001b[0;34m,\u001b[0m \u001b[0mf\u001b[0m\u001b[0;34m)\u001b[0m\u001b[0;34m(\u001b[0m\u001b[0;34m**\u001b[0m\u001b[0mkwargs\u001b[0m\u001b[0;34m)\u001b[0m\u001b[0;34m\u001b[0m\u001b[0;34m\u001b[0m\u001b[0m\n\u001b[0m\u001b[1;32m    428\u001b[0m             \u001b[0;32mexcept\u001b[0m \u001b[0;34m(\u001b[0m\u001b[0mTypeError\u001b[0m\u001b[0;34m,\u001b[0m \u001b[0mNotImplementedError\u001b[0m\u001b[0;34m)\u001b[0m\u001b[0;34m:\u001b[0m\u001b[0;34m\u001b[0m\u001b[0;34m\u001b[0m\u001b[0m\n\u001b[1;32m    429\u001b[0m                 \u001b[0;32mif\u001b[0m \u001b[0;32mnot\u001b[0m \u001b[0mignore_failures\u001b[0m\u001b[0;34m:\u001b[0m\u001b[0;34m\u001b[0m\u001b[0;34m\u001b[0m\u001b[0m\n",
      "\u001b[0;32m~/opt/anaconda3/lib/python3.8/site-packages/pandas/core/internals/blocks.py\u001b[0m in \u001b[0;36msetitem\u001b[0;34m(self, indexer, value)\u001b[0m\n\u001b[1;32m    997\u001b[0m \u001b[0;34m\u001b[0m\u001b[0m\n\u001b[1;32m    998\u001b[0m         \u001b[0;31m# length checking\u001b[0m\u001b[0;34m\u001b[0m\u001b[0;34m\u001b[0m\u001b[0;34m\u001b[0m\u001b[0m\n\u001b[0;32m--> 999\u001b[0;31m         \u001b[0mcheck_setitem_lengths\u001b[0m\u001b[0;34m(\u001b[0m\u001b[0mindexer\u001b[0m\u001b[0;34m,\u001b[0m \u001b[0mvalue\u001b[0m\u001b[0;34m,\u001b[0m \u001b[0mvalues\u001b[0m\u001b[0;34m)\u001b[0m\u001b[0;34m\u001b[0m\u001b[0;34m\u001b[0m\u001b[0m\n\u001b[0m\u001b[1;32m   1000\u001b[0m         exact_match = (\n\u001b[1;32m   1001\u001b[0m             \u001b[0mlen\u001b[0m\u001b[0;34m(\u001b[0m\u001b[0marr_value\u001b[0m\u001b[0;34m.\u001b[0m\u001b[0mshape\u001b[0m\u001b[0;34m)\u001b[0m\u001b[0;34m\u001b[0m\u001b[0;34m\u001b[0m\u001b[0m\n",
      "\u001b[0;32m~/opt/anaconda3/lib/python3.8/site-packages/pandas/core/indexers.py\u001b[0m in \u001b[0;36mcheck_setitem_lengths\u001b[0;34m(indexer, value, values)\u001b[0m\n\u001b[1;32m    159\u001b[0m                     \u001b[0;32mand\u001b[0m \u001b[0mlen\u001b[0m\u001b[0;34m(\u001b[0m\u001b[0mindexer\u001b[0m\u001b[0;34m[\u001b[0m\u001b[0mindexer\u001b[0m\u001b[0;34m]\u001b[0m\u001b[0;34m)\u001b[0m \u001b[0;34m==\u001b[0m \u001b[0mlen\u001b[0m\u001b[0;34m(\u001b[0m\u001b[0mvalue\u001b[0m\u001b[0;34m)\u001b[0m\u001b[0;34m\u001b[0m\u001b[0;34m\u001b[0m\u001b[0m\n\u001b[1;32m    160\u001b[0m                 ):\n\u001b[0;32m--> 161\u001b[0;31m                     raise ValueError(\n\u001b[0m\u001b[1;32m    162\u001b[0m                         \u001b[0;34m\"cannot set using a list-like indexer \"\u001b[0m\u001b[0;34m\u001b[0m\u001b[0;34m\u001b[0m\u001b[0m\n\u001b[1;32m    163\u001b[0m                         \u001b[0;34m\"with a different length than the value\"\u001b[0m\u001b[0;34m\u001b[0m\u001b[0;34m\u001b[0m\u001b[0m\n",
      "\u001b[0;31mValueError\u001b[0m: cannot set using a list-like indexer with a different length than the value"
     ]
    }
   ],
   "source": [
    "# Create daily returns dataframe\n",
    "\n",
    "daily_returns = comb_closes_2010_2020.copy()\n",
    "\n",
    "for symbol in top_ten_2010:\n",
    "    for i in range(0, len(daily_returns[symbol])-2):\n",
    "        daily_returns[symbol].iloc[[i]] = (comb_closes_2010_2020[symbol].iloc[[i+1]] - comb_closes_2010_2020[symbol].iloc[[i]])/ comb_closes_2010_2020[symbol].iloc[[i]]\n",
    "\n",
    "daily_returns.head()"
   ]
  },
  {
   "cell_type": "code",
   "execution_count": null,
   "metadata": {},
   "outputs": [],
   "source": [
    "#comb_closes_2010_2020 = comb_closes_2010_2020.set_index(\"Date\")\n",
    "daily_returns = comb_closes_2010_2020.pct_change()\n",
    "\n",
    "\n",
    "# drop the first row\n",
    "daily_returns = daily_returns.iloc[1: , :]\n",
    "\n"
   ]
  },
  {
   "cell_type": "code",
   "execution_count": null,
   "metadata": {},
   "outputs": [],
   "source": [
    "daily_returns.head()\n",
    "\n",
    "variances = daily_returns.var()\n",
    "\n",
    "sd_returns = (variances)**(1/2)\n",
    "\n",
    "sd_returns\n",
    "# Quick observation; standard deviation of returns look good between stocks, around 1.5pp daily, with cross-section variation between ca. 1pp and 2pp\n",
    "\n",
    "# Save the standard deviations. \n",
    "sd_returns.to_csv(\"topten_sd_2010_2020.csv\")\n"
   ]
  },
  {
   "cell_type": "code",
   "execution_count": null,
   "metadata": {},
   "outputs": [
    {
     "data": {
      "text/plain": [
       "XOM      0.135597\n",
       "MSFT     1.094133\n",
       "AAPL     1.837347\n",
       "WMT      0.309693\n",
       "BRK-A    0.709682\n",
       "GE       0.425655\n",
       "PG       0.237199\n",
       "BAC      0.474060\n",
       "GOOG     1.043246\n",
       "JPM      0.643457\n",
       "dtype: float64"
      ]
     },
     "execution_count": 28,
     "metadata": {},
     "output_type": "execute_result"
    }
   ],
   "source": [
    "variances = comb_closes_norm_2010_2020.var()\n",
    "\n",
    "(variances)**(1/2)"
   ]
  },
  {
   "cell_type": "code",
   "execution_count": null,
   "metadata": {},
   "outputs": [],
   "source": [
    "# Create neutral graphs, for all stocks and history + prediction of 100 + 20.\n",
    "\n",
    "hist_len = 100\n",
    "pred_len=20\n",
    "\n",
    "for symbol in top_ten_2010:\n",
    "    for start in range(0,len(comb_closes_2010_2020)-hist_len - pred_len -1, 120):\n",
    "        graphing_functions.gen_graphs_n_trends(data=comb_closes_2010_2020, symbol=symbol, start=start, hist_length=hist_len, pred_length=pred_len, shift_points=[], show_outcome= False)\n",
    "        graphing_functions.gen_graphs_n_trends(data=comb_closes_2010_2020, symbol=symbol, start=start, hist_length=hist_len, pred_length=pred_len, shift_points=[], show_outcome= True)"
   ]
  },
  {
   "cell_type": "code",
   "execution_count": null,
   "metadata": {},
   "outputs": [],
   "source": [
    "## Length of history equal to 100, prediction 20, two switching points\n",
    "\n",
    "hist_len = 100\n",
    "pred_len=20\n",
    "\n",
    "for start in range(0,len(comb_closes_2010_2020)-hist_len - pred_len -1, 120):\n",
    "    graphing_functions.gen_graphs_n_trends(data=comb_closes_2010_2020, symbol=\"AAPL\", start=start, hist_length=100, pred_length=20, shift_points=[40,80], show_outcome= False)"
   ]
  },
  {
   "cell_type": "code",
   "execution_count": null,
   "metadata": {},
   "outputs": [],
   "source": [
    "## Try out for length of history equal to 50, prediction 10, two trend changes\n",
    "\n",
    "hist_len = 50\n",
    "pred_len= 10\n",
    "\n",
    "for start in range(0,len(comb_closes_2010_2020)-hist_len - pred_len -1, hist_len+pred_len):\n",
    "    graphing_functions.gen_graphs_n_trends(data=comb_closes_2010_2020, symbol=\"AAPL\", start=start, hist_length=50, pred_length=10, shift_points=[20,40], show_outcome= False)"
   ]
  },
  {
   "cell_type": "code",
   "execution_count": null,
   "metadata": {},
   "outputs": [],
   "source": [
    "## Length of history 50, prediction 10, one trend change\n",
    "\n",
    "hist_len = 50\n",
    "pred_len= 10\n",
    "\n",
    "for start in range(0,len(comb_closes_2010_2020)-hist_len - pred_len -1, hist_len+pred_len):\n",
    "    graphing_functions.gen_graphs_n_trends(data=comb_closes_2010_2020, symbol=\"AAPL\", start=start, hist_length=50, pred_length=10, shift_points=[40], show_outcome= False)"
   ]
  },
  {
   "cell_type": "code",
   "execution_count": null,
   "metadata": {},
   "outputs": [],
   "source": [
    "## Length of history equal to 100, prediction 20, one switching point at 80\n",
    "\n",
    "hist_len = 100\n",
    "pred_len=20\n",
    "\n",
    "for start in range(0,len(comb_closes_2010_2020)-hist_len - pred_len -1, 120):\n",
    "    graphing_functions.gen_graphs_n_trends(data=comb_closes_2010_2020, symbol=\"AAPL\", start=start, hist_length=hist_len, pred_length=pred_len, shift_points=[80], show_outcome= False)"
   ]
  },
  {
   "cell_type": "code",
   "execution_count": null,
   "metadata": {},
   "outputs": [],
   "source": [
    "# Run the 100-20 combination for all top ten stocks. One switching point at T=80.\n",
    "hist_len = 100\n",
    "pred_len=20\n",
    " \n",
    "for symbol in top_ten_2010:\n",
    "    for start in range(0,len(comb_closes_2010_2020)-hist_len - pred_len -1, 120):\n",
    "        graphing_functions.gen_graphs_n_trends(data=comb_closes_2010_2020, symbol=symbol, start=start, hist_length=hist_len, pred_length=pred_len, shift_points=[80], show_outcome= False)"
   ]
  },
  {
   "cell_type": "code",
   "execution_count": null,
   "metadata": {},
   "outputs": [],
   "source": [
    "# Run the 100-20 combination for all top ten stocks. Two switching points at T=40,80.\n",
    "hist_len = 100\n",
    "pred_len=20\n",
    " \n",
    "for symbol in top_ten_2010:\n",
    "    for start in range(0,len(comb_closes_2010_2020)-hist_len - pred_len -1, 120):\n",
    "        graphing_functions.gen_graphs_n_trends(data=comb_closes_2010_2020, symbol=symbol, start=start, hist_length=hist_len, pred_length=pred_len, shift_points=[40,80], show_outcome= False)"
   ]
  },
  {
   "cell_type": "code",
   "execution_count": null,
   "metadata": {},
   "outputs": [],
   "source": [
    "## Rerun neutral plots\n",
    "\n",
    "# for symbol in top_ten_2010:\n",
    "\n",
    "# hist_len = 70\n",
    "# pred_len = 10\n",
    "\n",
    "# for start_time in range(0,1):\n",
    "\n",
    "#     graphing_functions.gen_graphs_n_trends(data=comb_closes_2010_2020, symbol=\"AAPL\", start=start_time, hist_length=70, pred_length=10, shift_points=[30, 60], show_outcome= True)\n",
    "\n",
    "\n",
    "\n",
    "\n",
    "\n"
   ]
  },
  {
   "cell_type": "code",
   "execution_count": null,
   "metadata": {},
   "outputs": [],
   "source": [
    "# Create an example graph without distinction\n",
    "\n",
    "# graphing_functions.gen_graphs_n_trends(comb_closes_2010_2020, symbol=\"AAPL\", start=1000, hist_length=50, pred_length=0, shift_points=[],show_outcome=True)"
   ]
  },
  {
   "cell_type": "code",
   "execution_count": null,
   "metadata": {},
   "outputs": [],
   "source": [
    "# graph for prediction length of 80\n",
    "\n",
    "# for start_time in range(0,len(comb_closes_2010_2020)-hist_len - pred_len -1, 80):\n",
    "\n",
    "#     graphing_functions.gen_graphs_n_trends(data=comb_closes_2010_2020, symbol=\"AAPL\", start=start_time, hist_length=60, pred_length=20, shift_points=[40], show_outcome= False)\n",
    "\n",
    "# for start_time in range(0,len(comb_closes_2010_2020)-hist_len - pred_len -1, 80):\n",
    "\n",
    "#     graphing_functions.gen_graphs_n_trends(data=comb_closes_2010_2020, symbol=\"AAPL\", start=start_time, hist_length=60, pred_length=20, shift_points=[20, 40], show_outcome= False)\n",
    "\n"
   ]
  },
  {
   "cell_type": "code",
   "execution_count": null,
   "metadata": {},
   "outputs": [],
   "source": []
  },
  {
   "cell_type": "code",
   "execution_count": null,
   "metadata": {},
   "outputs": [],
   "source": [
    "# Run two-trend plots, for AAPL only and shift_points at 40\n",
    "#hist_len = 70\n",
    "#pred_len = 5\n",
    "\n",
    "# for start_time in range(0,len(comb_closes_2010_2020)-hist_len - pred_len -1, hist_len+pred_len):\n",
    "\n",
    "#     graphing_functions.gen_graphs_n_trends(data=comb_closes_2010_2020, symbol=\"AAPL\", start=start_time, hist_length=hist_len, pred_length=pred_len, shift_points=[25, 50], show_outcome= False)\n",
    "\n"
   ]
  },
  {
   "cell_type": "code",
   "execution_count": null,
   "metadata": {},
   "outputs": [],
   "source": [
    "# Run three-trend plots, for AAPL only and shift_points at 20 and 40.\n",
    "\n",
    "#for start_time in range(0,len(comb_closes_2010_2020)-hist_len - pred_len -1, 80):\n",
    "\n",
    "#    graphing_functions.gen_graphs_n_trends(data=comb_closes_2010_2020, symbol=\"AAPL\", start=start_time, hist_length=60, pred_length=20, shift_points=[20,40], show_outcome= False)\n",
    "\n",
    "\n",
    "\n"
   ]
  },
  {
   "cell_type": "code",
   "execution_count": null,
   "metadata": {},
   "outputs": [],
   "source": [
    "graphing_functions.gen_graphs_n_trends(data=comb_closes_2010_2020, symbol=\"AAPL\", start=1520, hist_length=60, pred_length=20, shift_points=[40], show_outcome= False)"
   ]
  },
  {
   "cell_type": "code",
   "execution_count": null,
   "metadata": {},
   "outputs": [],
   "source": [
    "# Need to compare the different parametrizations, to find one that makes sense to show\n",
    "\n",
    "# Option 1:\n",
    "# Length of the history: h=50, Pred = 10. \n",
    "# M1:40, M2=20,40\n",
    "# \n",
    "# Option 2:\n",
    "# Length of the history: h=60, Pred =10\n",
    "# M1 = 50, M2 = 25, 50  \n",
    "#\n",
    "# Option 3: (currently preferred.)\n",
    "# Length of the history: h=100, pred=20\n",
    "#  M1=80, M2 = 40, 80\n",
    "# -- seems to be a fine mix between long enough data to look meaningful, and \n",
    "# reasonable models.\n",
    "# -> Implement for now. \n"
   ]
  },
  {
   "cell_type": "code",
   "execution_count": null,
   "metadata": {},
   "outputs": [],
   "source": [
    "from likelihood_calc import calc_lg_likelihood"
   ]
  },
  {
   "cell_type": "code",
   "execution_count": null,
   "metadata": {},
   "outputs": [],
   "source": [
    "test = calc_lg_likelihood(comb_closes_2010_2020[\"AAPL\"].iloc[0:60], \"No trend\", 0.01, 0.01, 0.01)"
   ]
  },
  {
   "cell_type": "markdown",
   "metadata": {},
   "source": [
    "Next step: Generate a table tracking the variation of different graphs' properties, especially prediction and fit."
   ]
  },
  {
   "cell_type": "code",
   "execution_count": null,
   "metadata": {},
   "outputs": [],
   "source": [
    "# Run the 100-20 combination for all top ten stocks, collect \"non-graphical\" information about the models.\n",
    "# Two switching points at T=40,80.\n",
    "hist_len = 100\n",
    "pred_len=20\n",
    "\n",
    "# Sketched procedure: \n",
    "# 1. Generate \"empty\" dataframe: Cols: Symbol, Time, Model class, switching points 1-2, Fitted param 1, 2, 3, Likelihood, total trend, general stock trend.\n",
    "# Read up: this is actually bad practice, use lists first. \n",
    "\n",
    "# Generate l\n",
    "\n",
    "\n",
    "\n",
    "for symbol in top_ten_2010:\n",
    "\n",
    "    # Initialize lists:\n",
    "\n",
    "    time_steps = range(0,len(comb_closes_2010_2020)-hist_len - pred_len -1, 120)\n",
    "\n",
    "    symbol = [\"none\"] * len(time_steps)\n",
    "\n",
    "    starting_point = [0] * len(time_steps)\n",
    "\n",
    "    model_dummy = [0] * len(time_steps)\n",
    "    model_1 = [0] * len(time_steps)\n",
    "    model_2 = [0] * len(time_steps)\n",
    "    \n",
    "    fitted_param_1 = [0] * len(time_steps)\n",
    "    fitted_param_2 = [0] * len(time_steps)\n",
    "    fitted_param_3 = [0] * len(time_steps)\n",
    "\n",
    "\n",
    "\n",
    "    for start in range(0,len(comb_closes_2010_2020)-hist_len - pred_len -1, 120):\n",
    "    \n",
    "        pass\n",
    "\n"
   ]
  },
  {
   "cell_type": "code",
   "execution_count": 8,
   "metadata": {},
   "outputs": [],
   "source": [
    "# For the sender part, generate a neutral model to be shown.\n",
    "\n",
    "\n",
    "graphing_functions.gen_graphs_neutral(data=comb_closes_2010_2020, symbol=\"AAPL\", start=1520, hist_length=100, pred_length=20, model=\"no_model\")\n"
   ]
  },
  {
   "cell_type": "code",
   "execution_count": 6,
   "metadata": {},
   "outputs": [
    {
     "name": "stdout",
     "output_type": "stream",
     "text": [
      "0.048905483040462466\n",
      "0.02819505063171694\n",
      "0.025640907711129236\n",
      "0.05594192279555852\n",
      "0.04494440770973887\n",
      "0.045711340328906946\n",
      "0.05492842447107329\n",
      "0.0625389832120143\n",
      "0.05972320046988781\n",
      "0.027357115285881747\n",
      "0.00898001618941624\n",
      "0.032916720567346985\n",
      "0.036192685185905925\n",
      "0.025624534324321657\n",
      "0.05511851824238303\n",
      "0.03683092178488304\n",
      "0.028304076615318335\n",
      "0.026612683465033957\n",
      "0.030074032851023464\n",
      "-0.024227119267257857\n",
      "-0.027753284861450466\n",
      "-0.03915375106133055\n",
      "-0.06219836796400228\n",
      "-0.04591034506713615\n",
      "-0.033727950352457015\n",
      "-0.035647911331812804\n",
      "-0.03699534554285133\n",
      "-0.05508904981939468\n",
      "-0.060220646075209064\n",
      "-0.0953782202589974\n",
      "-0.12040878275827183\n",
      "-0.11953421128903104\n",
      "-0.12368853517185546\n",
      "-0.1256810649511569\n",
      "-0.14256081872190357\n",
      "-0.13429849236061955\n",
      "-0.12816621133933698\n",
      "-0.12142069763401629\n",
      "-0.17220713112648767\n",
      "-0.21288280727650757\n",
      "-0.2056055044014977\n",
      "-0.23045130062548153\n",
      "-0.25907290296468677\n",
      "-0.23638261273926214\n",
      "-0.26681741594041597\n",
      "-0.21833226528157215\n",
      "-0.2260540137794009\n",
      "-0.2397821017533045\n",
      "-0.2797011703598774\n",
      "-0.32600943230923773\n",
      "-0.3356774258828292\n",
      "-0.2859092406800593\n",
      "-0.23032650431096427\n",
      "-0.22096376250782848\n",
      "-0.23328487751132737\n",
      "-0.20641505615703742\n",
      "-0.20385569992440994\n",
      "-0.19163608154805187\n",
      "-0.17454214307396532\n",
      "0.032966351473530706\n",
      "0.13491180140982806\n",
      "0.17759524366118004\n",
      "0.18755149535277024\n",
      "0.13678557642940928\n",
      "0.18057410160415308\n",
      "0.22624725285844305\n",
      "0.2575972208168906\n",
      "0.2657175914724012\n",
      "0.2488202882819899\n",
      "0.3045150161653254\n",
      "0.4295256501062433\n",
      "0.4425464247485041\n",
      "0.278255815260773\n",
      "0.317836570224568\n",
      "0.2700346554689874\n",
      "0.3123210900873554\n",
      "0.2609097873693642\n",
      "0.18680095579822348\n",
      "0.07841748456946245\n",
      "-0.07266877006429695\n",
      "-0.15987088940605218\n"
     ]
    }
   ],
   "source": [
    "# \n",
    "\n",
    "for shift in range(10,90+1):\n",
    "    #graphing_functions.gen_graphs_two_trends(comb_closes_2010_2020, \"AAPL\", 1520, 100, 20, [shift_point])\n",
    "    graphing_functions.gen_graphs_two_trends(data=comb_closes_2010_2020, symbol=\"AAPL\", start=1520, hist_length=100, pred_length=20, shift_point=shift)"
   ]
  }
 ],
 "metadata": {
  "kernelspec": {
   "display_name": "Python 3.8.8 ('base')",
   "language": "python",
   "name": "python3"
  },
  "language_info": {
   "codemirror_mode": {
    "name": "ipython",
    "version": 3
   },
   "file_extension": ".py",
   "mimetype": "text/x-python",
   "name": "python",
   "nbconvert_exporter": "python",
   "pygments_lexer": "ipython3",
   "version": "3.8.8"
  },
  "orig_nbformat": 4,
  "vscode": {
   "interpreter": {
    "hash": "0908ce7c1ff9854b9388ce484919ef043f22ee32a637bea40fdaaa5a1335c36c"
   }
  }
 },
 "nbformat": 4,
 "nbformat_minor": 2
}
