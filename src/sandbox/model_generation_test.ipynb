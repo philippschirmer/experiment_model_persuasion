{
 "cells": [
  {
   "cell_type": "code",
   "execution_count": 11,
   "metadata": {},
   "outputs": [
    {
     "data": {
      "text/plain": [
       "'/Users/philipp/econ/experiment_model_persuasion'"
      ]
     },
     "execution_count": 11,
     "metadata": {},
     "output_type": "execute_result"
    }
   ],
   "source": [
    "# Importing the required module\n",
    "# TODO: Use other plotting library instead?\n",
    "# TODO: Check which libraries remain relevant at the end.\n",
    "import numpy as np\n",
    "\n",
    "import pandas as pd\n",
    "\n",
    "\n",
    "import matplotlib.pyplot as plt\n",
    "\n",
    "import plotly.express as px\n",
    "import plotly.graph_objs as go\n",
    "\n",
    "import os\n",
    "# dirname = os.path.dirname()\n",
    "\n",
    "# Define own working directory here \n",
    "# TODO: Is there a dynamic way to achieve this, without requiring manual copy-paste of directory?\n",
    "os.chdir(r\"/Users/philipp/econ/experiment_model_persuasion/\")\n",
    "\n",
    "\n",
    "pwd = os.getcwd()\n",
    "pwd"
   ]
  },
  {
   "cell_type": "code",
   "execution_count": 12,
   "metadata": {},
   "outputs": [],
   "source": [
    "# Set parameters\n",
    "T=100\n",
    "\n",
    "#Generate timeline\n",
    "\n",
    "t = np.arange(0,T,1,dtype=int)\n",
    "\n",
    "# Set std and switching probability\n",
    "\n",
    "var_errors = 30\n",
    "p = 0.5\n",
    "\n",
    "# Generate (stochastic) trend:\n",
    "\n",
    "seed = 12345\n",
    "\n",
    "rng = np.random.default_rng(seed)\n",
    "draw_rand_bin = rng.binomial(1, p, size=None)\n",
    "\n",
    "errors = rng.normal(0, var_errors, T)\n",
    "\n",
    "\n",
    "\n",
    "\n",
    "# Set the trend component\n",
    "c = .5\n",
    "\n",
    "# Generate trend shift (first up, then down, or vice versa)\n",
    "\n",
    "trend = np.array([0,0])\n",
    "\n",
    "if draw_rand_bin == 0:\n",
    "    trend = np.array([c,-c])\n",
    "elif draw_rand_bin == 1:\n",
    "    trend = np.array([c,-c])    \n",
    "\n",
    "\n",
    "# Determine whether there is a trend shift\n",
    "# For shift at t=0, this is equivalent to no shift (i.e., second part of trend is used throughout).\n",
    "\n",
    "# Set up shifting probabilities\n",
    "p_shift_at_0 = 0.5\n",
    "\n",
    "equal_prob_t80= (1-  p_shift_at_0) / (79)\n",
    "\n",
    "p_shift_at_t = np.full(80, equal_prob_t80)\n",
    "\n",
    "\n",
    "p_shift_at_t[0] = p_shift_at_0\n",
    "\n",
    "p_shift_at_t\n",
    "\n",
    "check_sum = np.sum(p_shift_at_t)\n",
    "# check_sum"
   ]
  },
  {
   "cell_type": "code",
   "execution_count": 13,
   "metadata": {},
   "outputs": [],
   "source": [
    "trend_shift = np.random.choice(80, size=None, replace=True, p=p_shift_at_t.tolist())\n",
    "\n",
    "# trend_shift"
   ]
  },
  {
   "cell_type": "code",
   "execution_count": 14,
   "metadata": {},
   "outputs": [
    {
     "data": {
      "text/plain": [
       "Time            50.000000\n",
       "Stock price    278.234074\n",
       "Name: 50, dtype: float64"
      ]
     },
     "execution_count": 14,
     "metadata": {},
     "output_type": "execute_result"
    }
   ],
   "source": [
    "\n",
    "trend_shift = np.random.choice(80, size=None, replace=True)\n",
    "\n",
    "trend_shift\n",
    "\n",
    "# generate trend vector including shift\n",
    "\n",
    "trend_with_shift = np.full(100,c)\n",
    "for i in range(0,100):\n",
    "    if i <= trend_shift:\n",
    "        trend_with_shift[i] = trend[0]\n",
    "    elif i > trend_shift:\n",
    "        trend_with_shift[i] = trend[1]\n",
    "\n",
    "trend_with_shift\n",
    "\n",
    "\n",
    "# run cumulative trend, errors\n",
    "\n",
    "cum_sum_trend = np.cumsum(trend_with_shift)\n",
    "\n",
    "cum_sum_errors = np.cumsum(errors)\n",
    "\n",
    "# shift y upwards by 100 to \"normalize\" stock\n",
    "y = cum_sum_trend + cum_sum_errors + 100\n",
    "\n",
    "stacked_array= np.stack((t, y), axis=-1)\n",
    "data = pd.DataFrame(stacked_array).rename(columns={0: \"Time\", 1: \"Stock price\"})\n",
    "\n",
    "data.iloc[50]\n",
    "\n",
    "\n"
   ]
  },
  {
   "cell_type": "code",
   "execution_count": 15,
   "metadata": {},
   "outputs": [],
   "source": [
    "# TODO: Make graphs, regressions look nice.\n",
    "# Challenge: retain uniformity in order not to bias \n",
    "# experimental persuaders/receivers.\n",
    "\n",
    "# TODO: Does plotly require pandas dataframes, or are numpy-array fine, too?\n",
    "# Documentation indicates generally pd. fine.\n",
    "\n",
    "# TODO: Find a dynamic and consistent way to set the axes (y, mostly)\n",
    "\n",
    "\n",
    "shift_point = 40\n",
    "\n",
    "fig = px.line(data, x=\"Time\", \n",
    "                        y=\"Stock price\",\n",
    "                        labels={'number_obs':'Number of Observations', 'runtime':'runtime'},\n",
    "                        title='Development of a stock price',\n",
    "                        )\n",
    "fig.update_layout(paper_bgcolor='#fff' )\n",
    "fig.update_layout(plot_bgcolor='#fff' )\n",
    "\n",
    "fig.add_shape(type=\"line\",\n",
    "    xref=\"x\", yref=\"y\",\n",
    "    x0=shift_point, y0=-100, x1=shift_point, y1=300,\n",
    "    line=dict(\n",
    "        color=\"LightSeaGreen\",\n",
    "        width=3,\n",
    "    ),\n",
    ")\n",
    "\n",
    "fig.add_shape(type=\"line\",\n",
    "    xref=\"x\", yref=\"y\",\n",
    "    x0=shift_point, y0=data.iat[shift_point,1], x1=80, y1=data.iat[80,1],\n",
    "    line=dict(\n",
    "        color=\"LightSeaGreen\",\n",
    "        width=3,\n",
    "    ),\n",
    ")\n",
    "\n",
    "fig.add_shape(type=\"line\",\n",
    "    xref=\"x\", yref=\"y\",\n",
    "    x0=0, y0=data.iat[0,1], x1=shift_point, y1=data.iat[shift_point,1],\n",
    "    line=dict(\n",
    "        color=\"LightSeaGreen\",\n",
    "        width=3,\n",
    "    ),\n",
    ")\n",
    "\n",
    "# fig.to_image(format=\"png\", engine=\"kaleido\")\n",
    "\n",
    "fig.write_image(pwd + \"/img/fig_test_{}.jpg\".format(shift_point), engine='kaleido')\n",
    "\n"
   ]
  },
  {
   "cell_type": "code",
   "execution_count": 16,
   "metadata": {},
   "outputs": [],
   "source": [
    "#from gen_neutral_graphs import gen_neutral_graphs\n",
    "\n",
    "import plotly.express as px\n",
    "\n",
    "from functions_plotting import *\n",
    "\n",
    "T_model = 79 \n",
    "\n",
    "t_list_model = np.arange(0,T_model,1,dtype=int)\n",
    "\n",
    "\n",
    "gen_model_graphs(data, t_list_model, 5, pwd )"
   ]
  },
  {
   "cell_type": "code",
   "execution_count": 17,
   "metadata": {},
   "outputs": [],
   "source": [
    "gen_neutral_graphs(data, pwd)"
   ]
  },
  {
   "cell_type": "code",
   "execution_count": 18,
   "metadata": {},
   "outputs": [
    {
     "ename": "NameError",
     "evalue": "name 'c' is not defined",
     "output_type": "error",
     "traceback": [
      "\u001b[0;31m---------------------------------------------------------------------------\u001b[0m",
      "\u001b[0;31mNameError\u001b[0m                                 Traceback (most recent call last)",
      "\u001b[0;32m<ipython-input-18-2adba8a97073>\u001b[0m in \u001b[0;36m<module>\u001b[0;34m\u001b[0m\n\u001b[1;32m      2\u001b[0m \u001b[0;34m\u001b[0m\u001b[0m\n\u001b[1;32m      3\u001b[0m \u001b[0;34m\u001b[0m\u001b[0m\n\u001b[0;32m----> 4\u001b[0;31m \u001b[0mdata_test\u001b[0m \u001b[0;34m=\u001b[0m \u001b[0mgenerate_data\u001b[0m\u001b[0;34m(\u001b[0m\u001b[0;36m40\u001b[0m\u001b[0;34m,\u001b[0m \u001b[0;36m0.5\u001b[0m\u001b[0;34m,\u001b[0m \u001b[0;36m0.5\u001b[0m\u001b[0;34m,\u001b[0m \u001b[0;36m30\u001b[0m\u001b[0;34m,\u001b[0m \u001b[0;36m100\u001b[0m\u001b[0;34m,\u001b[0m \u001b[0;36m12345\u001b[0m\u001b[0;34m)\u001b[0m\u001b[0;34m\u001b[0m\u001b[0;34m\u001b[0m\u001b[0m\n\u001b[0m",
      "\u001b[0;32m~/econ/experiment_model_persuasion/src/sandbox/functions_data_gen.py\u001b[0m in \u001b[0;36mgenerate_data\u001b[0;34m(model, p, trend_abs, var_errors, obs, seed)\u001b[0m\n\u001b[1;32m     86\u001b[0m     \u001b[0;31m# generate trend vector including shift\u001b[0m\u001b[0;34m\u001b[0m\u001b[0;34m\u001b[0m\u001b[0;34m\u001b[0m\u001b[0m\n\u001b[1;32m     87\u001b[0m \u001b[0;34m\u001b[0m\u001b[0m\n\u001b[0;32m---> 88\u001b[0;31m     \u001b[0mtrend_with_shift\u001b[0m \u001b[0;34m=\u001b[0m \u001b[0mnp\u001b[0m\u001b[0;34m.\u001b[0m\u001b[0mfull\u001b[0m\u001b[0;34m(\u001b[0m\u001b[0;36m100\u001b[0m\u001b[0;34m,\u001b[0m\u001b[0mtrend_abs\u001b[0m\u001b[0;34m)\u001b[0m\u001b[0;34m\u001b[0m\u001b[0;34m\u001b[0m\u001b[0m\n\u001b[0m\u001b[1;32m     89\u001b[0m     \u001b[0;32mfor\u001b[0m \u001b[0mi\u001b[0m \u001b[0;32min\u001b[0m \u001b[0mrange\u001b[0m\u001b[0;34m(\u001b[0m\u001b[0;36m0\u001b[0m\u001b[0;34m,\u001b[0m\u001b[0;36m100\u001b[0m\u001b[0;34m)\u001b[0m\u001b[0;34m:\u001b[0m\u001b[0;34m\u001b[0m\u001b[0;34m\u001b[0m\u001b[0m\n\u001b[1;32m     90\u001b[0m         \u001b[0;32mif\u001b[0m \u001b[0mi\u001b[0m \u001b[0;34m<=\u001b[0m \u001b[0mtrend_shift\u001b[0m\u001b[0;34m:\u001b[0m\u001b[0;34m\u001b[0m\u001b[0;34m\u001b[0m\u001b[0m\n",
      "\u001b[0;31mNameError\u001b[0m: name 'c' is not defined"
     ]
    }
   ],
   "source": [
    "from functions_data_gen import generate_data\n",
    "\n",
    "\n",
    "data_test = generate_data(40, 0.5, 0.5, 30, 100, 12345)"
   ]
  },
  {
   "cell_type": "markdown",
   "metadata": {},
   "source": [
    "### ToDos:\n",
    "\n",
    "- Generate data five times, make five okay looking graphs.\n",
    "\n",
    "- cut them to 80, generate neutral graphs\n",
    "\n",
    "- present 79? model messages\n",
    "\n",
    "- save  them"
   ]
  }
 ],
 "metadata": {
  "interpreter": {
   "hash": "0908ce7c1ff9854b9388ce484919ef043f22ee32a637bea40fdaaa5a1335c36c"
  },
  "kernelspec": {
   "display_name": "Python 3.8.8 64-bit ('base': conda)",
   "language": "python",
   "name": "python3"
  },
  "language_info": {
   "codemirror_mode": {
    "name": "ipython",
    "version": 3
   },
   "file_extension": ".py",
   "mimetype": "text/x-python",
   "name": "python",
   "nbconvert_exporter": "python",
   "pygments_lexer": "ipython3",
   "version": "3.8.8"
  },
  "orig_nbformat": 4
 },
 "nbformat": 4,
 "nbformat_minor": 2
}
