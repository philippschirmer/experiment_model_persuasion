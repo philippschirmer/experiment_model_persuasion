{
 "cells": [
  {
   "cell_type": "code",
   "execution_count": 1,
   "metadata": {},
   "outputs": [
    {
     "data": {
      "text/plain": [
       "WindowsPath('c:/Users/caroa/Documents/winter_semester_21_22/EPP/experiment_model_persuasion/img')"
      ]
     },
     "execution_count": 1,
     "metadata": {},
     "output_type": "execute_result"
    }
   ],
   "source": [
    "# Importing the required module\n",
    "# TODO: Check which libraries remain relevant at the end.\n",
    "import numpy as np\n",
    "\n",
    "import pandas as pd\n",
    "\n",
    "\n",
    "import matplotlib.pyplot as plt\n",
    "\n",
    "import plotly.express as px\n",
    "import plotly.graph_objs as go\n",
    "\n",
    "import os\n",
    "from pathlib import Path\n",
    "\n",
    "from functions_data_gen import *\n",
    "from functions_plotting import *\n",
    "\n",
    "\n",
    "# dirname = os.path.dirname()\n",
    "\n",
    "# Define own working directory here \n",
    "# os.chdir(r\"/Users/philipp/econ/experiment_model_persuasion/\")\n",
    "\n",
    "\n",
    "pwd = os.getcwd()\n",
    "\n",
    "\n",
    "# Get the current working directory\n",
    "cwd = os.getcwd()\n",
    "# parent_cwd = cwd.parent.absolute()\n",
    "\n",
    "par_par_cwd = Path(cwd).parent.parent\n",
    "\n",
    "par_par_cwd / \"img\"\n",
    "\n",
    "\n",
    "\n"
   ]
  },
  {
   "cell_type": "code",
   "execution_count": 2,
   "metadata": {},
   "outputs": [],
   "source": [
    "# Test data generation \n",
    "\n",
    "# Set parameters\n",
    "T=100\n",
    "\n",
    "#Generate timeline\n",
    "\n",
    "t = np.arange(0,T,1,dtype=int)\n",
    "\n",
    "# Set std and switching probability\n",
    "\n",
    "var_errors = 30\n",
    "p = 0.5\n",
    "\n",
    "# Generate (stochastic) trend:\n",
    "\n",
    "seed = 12345\n",
    "\n",
    "rng = np.random.default_rng(seed)\n",
    "draw_rand_bin = rng.binomial(1, p, size=None)\n",
    "\n",
    "errors = rng.normal(0, var_errors, T)\n",
    "\n",
    "\n",
    "\n",
    "\n",
    "# Set the trend component\n",
    "c = .5\n",
    "\n",
    "# Generate trend shift (first up, then down, or vice versa)\n",
    "\n",
    "trend = np.array([0,0])\n",
    "\n",
    "if draw_rand_bin == 0:\n",
    "    trend = np.array([c,-c])\n",
    "elif draw_rand_bin == 1:\n",
    "    trend = np.array([c,-c])    \n",
    "\n",
    "\n",
    "# Determine whether there is a trend shift\n",
    "# For shift at t=0, this is equivalent to no shift (i.e., second part of trend is used throughout).\n",
    "\n",
    "# Set up shifting probabilities\n",
    "p_shift_at_0 = 0.5\n",
    "\n",
    "equal_prob_t80= (1-  p_shift_at_0) / (79)\n",
    "\n",
    "p_shift_at_t = np.full(80, equal_prob_t80)\n",
    "\n",
    "\n",
    "p_shift_at_t[0] = p_shift_at_0\n",
    "\n",
    "p_shift_at_t\n",
    "\n",
    "check_sum = np.sum(p_shift_at_t)\n",
    "# check_sum\n",
    "\n",
    "\n",
    "trend_shift = np.random.choice(80, size=None, replace=True, p=p_shift_at_t.tolist())\n",
    "\n",
    "trend_shift = np.random.choice(80, size=None, replace=True)\n",
    "\n",
    "trend_shift\n",
    "\n",
    "# generate trend vector including shift\n",
    "\n",
    "trend_with_shift = np.full(100,c)\n",
    "for i in range(0,100):\n",
    "    if i <= trend_shift:\n",
    "        trend_with_shift[i] = trend[0]\n",
    "    elif i > trend_shift:\n",
    "        trend_with_shift[i] = trend[1]\n",
    "\n",
    "trend_with_shift\n",
    "\n",
    "\n",
    "# run cumulative trend, errors\n",
    "\n",
    "cum_sum_trend = np.cumsum(trend_with_shift)\n",
    "\n",
    "cum_sum_errors = np.cumsum(errors)\n",
    "\n",
    "# shift y upwards by 100 to \"normalize\" stock\n",
    "y = cum_sum_trend + cum_sum_errors + 100\n",
    "\n",
    "stacked_array= np.stack((t, y), axis=-1)\n",
    "data = pd.DataFrame(stacked_array).rename(columns={0: \"Time\", 1: \"Stock price\"})\n",
    "\n",
    "data.iloc[50]\n",
    "\n",
    "# Normalize stock price level\n",
    "\n",
    "\n",
    "\n",
    "data[\"Stock price\"] = data[\"Stock price\"] - data[\"Stock price\"].min() + 100\n"
   ]
  },
  {
   "cell_type": "code",
   "execution_count": 3,
   "metadata": {},
   "outputs": [
    {
     "data": {
      "application/vnd.plotly.v1+json": {
       "config": {
        "plotlyServerURL": "https://plot.ly"
       },
       "data": [
        {
         "hovertemplate": "Time=%{x}<br>Stock price=%{y}<extra></extra>",
         "legendgroup": "",
         "line": {
          "color": "#636efa",
          "dash": "solid"
         },
         "marker": {
          "symbol": "circle"
         },
         "mode": "lines",
         "name": "",
         "orientation": "v",
         "showlegend": false,
         "type": "scatter",
         "x": [
          0,
          1,
          2,
          3,
          4,
          5,
          6,
          7,
          8,
          9,
          10,
          11,
          12,
          13,
          14,
          15,
          16,
          17,
          18,
          19,
          20,
          21,
          22,
          23,
          24,
          25,
          26,
          27,
          28,
          29,
          30,
          31,
          32,
          33,
          34,
          35,
          36,
          37,
          38,
          39,
          40,
          41,
          42,
          43,
          44,
          45,
          46,
          47,
          48,
          49,
          50,
          51,
          52,
          53,
          54,
          55,
          56,
          57,
          58,
          59,
          60,
          61,
          62,
          63,
          64,
          65,
          66,
          67,
          68,
          69,
          70,
          71,
          72,
          73,
          74,
          75,
          76,
          77,
          78,
          79
         ],
         "xaxis": "x",
         "y": [
          333.4751681077323,
          307.85531596895976,
          300.5801189209278,
          298.81981971061225,
          277.09328014804396,
          235.55949909455563,
          254.52628316034685,
          264.8580265519937,
          205.772134661628,
          275.6944242929935,
          304.2493314655512,
          280.96771605281606,
          307.5336642791836,
          293.0250690795671,
          290.7043835174563,
          313.8697138530323,
          275.669669858842,
          292.44539529071983,
          333.9147651324314,
          373.083706954415,
          363.5927514954418,
          390.1803317381936,
          341.03284971272745,
          335.7871718924213,
          348.77168985562156,
          307.9636576810297,
          305.0130299601247,
          356.2552279296146,
          434.3000107206498,
          457.1208510349729,
          481.4798469019931,
          452.21019751145275,
          415.42854890222327,
          372.5597884979997,
          388.3061933951513,
          410.3643752618819,
          390.1015656748583,
          352.7413161055,
          359.9680491578862,
          368.8551367109272,
          364.430786004224,
          402.03027961826194,
          398.74140588626346,
          396.2568792162136,
          362.51044520342145,
          366.08915071993715,
          406.00148364885524,
          407.33580427813547,
          408.96324228667675,
          421.4728783982628,
          429.29738819438984,
          444.7049597935935,
          460.30658886715435,
          478.3570893111792,
          454.0065656267791,
          462.5074940153776,
          413.9264462504657,
          421.4304111427675,
          383.0816976911262,
          380.4435735053728,
          394.1650654128741,
          381.21945258073424,
          383.6509475811826,
          333.9384124716064,
          307.72064775507135,
          327.8691013991826,
          292.7332139018313,
          311.74678557456093,
          269.5959869941686,
          241.87451327301326,
          208.51175405328195,
          208.22612490148322,
          223.75692199015444,
          191.28268659145093,
          185.33850438501753,
          233.49705834034376,
          223.4752999705114,
          198.50085096387357,
          209.59822148430163,
          202.38905370584428
         ],
         "yaxis": "y"
        }
       ],
       "layout": {
        "legend": {
         "tracegroupgap": 0
        },
        "paper_bgcolor": "#fff",
        "plot_bgcolor": "#fff",
        "shapes": [
         {
          "line": {
           "color": "LightSeaGreen",
           "width": 3
          },
          "type": "line",
          "x0": 40,
          "x1": 40,
          "xref": "x",
          "y0": 0,
          "y1": 581.4798469019931,
          "yref": "y"
         },
         {
          "line": {
           "color": "LightSeaGreen",
           "width": 3
          },
          "type": "line",
          "x0": 40,
          "x1": 80,
          "xref": "x",
          "y0": 364.430786004224,
          "y1": 180.83832944462347,
          "yref": "y"
         },
         {
          "line": {
           "color": "LightSeaGreen",
           "width": 3
          },
          "type": "line",
          "x0": 0,
          "x1": 40,
          "xref": "x",
          "y0": 333.4751681077323,
          "y1": 364.430786004224,
          "yref": "y"
         }
        ],
        "template": {
         "data": {
          "bar": [
           {
            "error_x": {
             "color": "#2a3f5f"
            },
            "error_y": {
             "color": "#2a3f5f"
            },
            "marker": {
             "line": {
              "color": "#E5ECF6",
              "width": 0.5
             },
             "pattern": {
              "fillmode": "overlay",
              "size": 10,
              "solidity": 0.2
             }
            },
            "type": "bar"
           }
          ],
          "barpolar": [
           {
            "marker": {
             "line": {
              "color": "#E5ECF6",
              "width": 0.5
             },
             "pattern": {
              "fillmode": "overlay",
              "size": 10,
              "solidity": 0.2
             }
            },
            "type": "barpolar"
           }
          ],
          "carpet": [
           {
            "aaxis": {
             "endlinecolor": "#2a3f5f",
             "gridcolor": "white",
             "linecolor": "white",
             "minorgridcolor": "white",
             "startlinecolor": "#2a3f5f"
            },
            "baxis": {
             "endlinecolor": "#2a3f5f",
             "gridcolor": "white",
             "linecolor": "white",
             "minorgridcolor": "white",
             "startlinecolor": "#2a3f5f"
            },
            "type": "carpet"
           }
          ],
          "choropleth": [
           {
            "colorbar": {
             "outlinewidth": 0,
             "ticks": ""
            },
            "type": "choropleth"
           }
          ],
          "contour": [
           {
            "colorbar": {
             "outlinewidth": 0,
             "ticks": ""
            },
            "colorscale": [
             [
              0,
              "#0d0887"
             ],
             [
              0.1111111111111111,
              "#46039f"
             ],
             [
              0.2222222222222222,
              "#7201a8"
             ],
             [
              0.3333333333333333,
              "#9c179e"
             ],
             [
              0.4444444444444444,
              "#bd3786"
             ],
             [
              0.5555555555555556,
              "#d8576b"
             ],
             [
              0.6666666666666666,
              "#ed7953"
             ],
             [
              0.7777777777777778,
              "#fb9f3a"
             ],
             [
              0.8888888888888888,
              "#fdca26"
             ],
             [
              1,
              "#f0f921"
             ]
            ],
            "type": "contour"
           }
          ],
          "contourcarpet": [
           {
            "colorbar": {
             "outlinewidth": 0,
             "ticks": ""
            },
            "type": "contourcarpet"
           }
          ],
          "heatmap": [
           {
            "colorbar": {
             "outlinewidth": 0,
             "ticks": ""
            },
            "colorscale": [
             [
              0,
              "#0d0887"
             ],
             [
              0.1111111111111111,
              "#46039f"
             ],
             [
              0.2222222222222222,
              "#7201a8"
             ],
             [
              0.3333333333333333,
              "#9c179e"
             ],
             [
              0.4444444444444444,
              "#bd3786"
             ],
             [
              0.5555555555555556,
              "#d8576b"
             ],
             [
              0.6666666666666666,
              "#ed7953"
             ],
             [
              0.7777777777777778,
              "#fb9f3a"
             ],
             [
              0.8888888888888888,
              "#fdca26"
             ],
             [
              1,
              "#f0f921"
             ]
            ],
            "type": "heatmap"
           }
          ],
          "heatmapgl": [
           {
            "colorbar": {
             "outlinewidth": 0,
             "ticks": ""
            },
            "colorscale": [
             [
              0,
              "#0d0887"
             ],
             [
              0.1111111111111111,
              "#46039f"
             ],
             [
              0.2222222222222222,
              "#7201a8"
             ],
             [
              0.3333333333333333,
              "#9c179e"
             ],
             [
              0.4444444444444444,
              "#bd3786"
             ],
             [
              0.5555555555555556,
              "#d8576b"
             ],
             [
              0.6666666666666666,
              "#ed7953"
             ],
             [
              0.7777777777777778,
              "#fb9f3a"
             ],
             [
              0.8888888888888888,
              "#fdca26"
             ],
             [
              1,
              "#f0f921"
             ]
            ],
            "type": "heatmapgl"
           }
          ],
          "histogram": [
           {
            "marker": {
             "pattern": {
              "fillmode": "overlay",
              "size": 10,
              "solidity": 0.2
             }
            },
            "type": "histogram"
           }
          ],
          "histogram2d": [
           {
            "colorbar": {
             "outlinewidth": 0,
             "ticks": ""
            },
            "colorscale": [
             [
              0,
              "#0d0887"
             ],
             [
              0.1111111111111111,
              "#46039f"
             ],
             [
              0.2222222222222222,
              "#7201a8"
             ],
             [
              0.3333333333333333,
              "#9c179e"
             ],
             [
              0.4444444444444444,
              "#bd3786"
             ],
             [
              0.5555555555555556,
              "#d8576b"
             ],
             [
              0.6666666666666666,
              "#ed7953"
             ],
             [
              0.7777777777777778,
              "#fb9f3a"
             ],
             [
              0.8888888888888888,
              "#fdca26"
             ],
             [
              1,
              "#f0f921"
             ]
            ],
            "type": "histogram2d"
           }
          ],
          "histogram2dcontour": [
           {
            "colorbar": {
             "outlinewidth": 0,
             "ticks": ""
            },
            "colorscale": [
             [
              0,
              "#0d0887"
             ],
             [
              0.1111111111111111,
              "#46039f"
             ],
             [
              0.2222222222222222,
              "#7201a8"
             ],
             [
              0.3333333333333333,
              "#9c179e"
             ],
             [
              0.4444444444444444,
              "#bd3786"
             ],
             [
              0.5555555555555556,
              "#d8576b"
             ],
             [
              0.6666666666666666,
              "#ed7953"
             ],
             [
              0.7777777777777778,
              "#fb9f3a"
             ],
             [
              0.8888888888888888,
              "#fdca26"
             ],
             [
              1,
              "#f0f921"
             ]
            ],
            "type": "histogram2dcontour"
           }
          ],
          "mesh3d": [
           {
            "colorbar": {
             "outlinewidth": 0,
             "ticks": ""
            },
            "type": "mesh3d"
           }
          ],
          "parcoords": [
           {
            "line": {
             "colorbar": {
              "outlinewidth": 0,
              "ticks": ""
             }
            },
            "type": "parcoords"
           }
          ],
          "pie": [
           {
            "automargin": true,
            "type": "pie"
           }
          ],
          "scatter": [
           {
            "marker": {
             "colorbar": {
              "outlinewidth": 0,
              "ticks": ""
             }
            },
            "type": "scatter"
           }
          ],
          "scatter3d": [
           {
            "line": {
             "colorbar": {
              "outlinewidth": 0,
              "ticks": ""
             }
            },
            "marker": {
             "colorbar": {
              "outlinewidth": 0,
              "ticks": ""
             }
            },
            "type": "scatter3d"
           }
          ],
          "scattercarpet": [
           {
            "marker": {
             "colorbar": {
              "outlinewidth": 0,
              "ticks": ""
             }
            },
            "type": "scattercarpet"
           }
          ],
          "scattergeo": [
           {
            "marker": {
             "colorbar": {
              "outlinewidth": 0,
              "ticks": ""
             }
            },
            "type": "scattergeo"
           }
          ],
          "scattergl": [
           {
            "marker": {
             "colorbar": {
              "outlinewidth": 0,
              "ticks": ""
             }
            },
            "type": "scattergl"
           }
          ],
          "scattermapbox": [
           {
            "marker": {
             "colorbar": {
              "outlinewidth": 0,
              "ticks": ""
             }
            },
            "type": "scattermapbox"
           }
          ],
          "scatterpolar": [
           {
            "marker": {
             "colorbar": {
              "outlinewidth": 0,
              "ticks": ""
             }
            },
            "type": "scatterpolar"
           }
          ],
          "scatterpolargl": [
           {
            "marker": {
             "colorbar": {
              "outlinewidth": 0,
              "ticks": ""
             }
            },
            "type": "scatterpolargl"
           }
          ],
          "scatterternary": [
           {
            "marker": {
             "colorbar": {
              "outlinewidth": 0,
              "ticks": ""
             }
            },
            "type": "scatterternary"
           }
          ],
          "surface": [
           {
            "colorbar": {
             "outlinewidth": 0,
             "ticks": ""
            },
            "colorscale": [
             [
              0,
              "#0d0887"
             ],
             [
              0.1111111111111111,
              "#46039f"
             ],
             [
              0.2222222222222222,
              "#7201a8"
             ],
             [
              0.3333333333333333,
              "#9c179e"
             ],
             [
              0.4444444444444444,
              "#bd3786"
             ],
             [
              0.5555555555555556,
              "#d8576b"
             ],
             [
              0.6666666666666666,
              "#ed7953"
             ],
             [
              0.7777777777777778,
              "#fb9f3a"
             ],
             [
              0.8888888888888888,
              "#fdca26"
             ],
             [
              1,
              "#f0f921"
             ]
            ],
            "type": "surface"
           }
          ],
          "table": [
           {
            "cells": {
             "fill": {
              "color": "#EBF0F8"
             },
             "line": {
              "color": "white"
             }
            },
            "header": {
             "fill": {
              "color": "#C8D4E3"
             },
             "line": {
              "color": "white"
             }
            },
            "type": "table"
           }
          ]
         },
         "layout": {
          "annotationdefaults": {
           "arrowcolor": "#2a3f5f",
           "arrowhead": 0,
           "arrowwidth": 1
          },
          "autotypenumbers": "strict",
          "coloraxis": {
           "colorbar": {
            "outlinewidth": 0,
            "ticks": ""
           }
          },
          "colorscale": {
           "diverging": [
            [
             0,
             "#8e0152"
            ],
            [
             0.1,
             "#c51b7d"
            ],
            [
             0.2,
             "#de77ae"
            ],
            [
             0.3,
             "#f1b6da"
            ],
            [
             0.4,
             "#fde0ef"
            ],
            [
             0.5,
             "#f7f7f7"
            ],
            [
             0.6,
             "#e6f5d0"
            ],
            [
             0.7,
             "#b8e186"
            ],
            [
             0.8,
             "#7fbc41"
            ],
            [
             0.9,
             "#4d9221"
            ],
            [
             1,
             "#276419"
            ]
           ],
           "sequential": [
            [
             0,
             "#0d0887"
            ],
            [
             0.1111111111111111,
             "#46039f"
            ],
            [
             0.2222222222222222,
             "#7201a8"
            ],
            [
             0.3333333333333333,
             "#9c179e"
            ],
            [
             0.4444444444444444,
             "#bd3786"
            ],
            [
             0.5555555555555556,
             "#d8576b"
            ],
            [
             0.6666666666666666,
             "#ed7953"
            ],
            [
             0.7777777777777778,
             "#fb9f3a"
            ],
            [
             0.8888888888888888,
             "#fdca26"
            ],
            [
             1,
             "#f0f921"
            ]
           ],
           "sequentialminus": [
            [
             0,
             "#0d0887"
            ],
            [
             0.1111111111111111,
             "#46039f"
            ],
            [
             0.2222222222222222,
             "#7201a8"
            ],
            [
             0.3333333333333333,
             "#9c179e"
            ],
            [
             0.4444444444444444,
             "#bd3786"
            ],
            [
             0.5555555555555556,
             "#d8576b"
            ],
            [
             0.6666666666666666,
             "#ed7953"
            ],
            [
             0.7777777777777778,
             "#fb9f3a"
            ],
            [
             0.8888888888888888,
             "#fdca26"
            ],
            [
             1,
             "#f0f921"
            ]
           ]
          },
          "colorway": [
           "#636efa",
           "#EF553B",
           "#00cc96",
           "#ab63fa",
           "#FFA15A",
           "#19d3f3",
           "#FF6692",
           "#B6E880",
           "#FF97FF",
           "#FECB52"
          ],
          "font": {
           "color": "#2a3f5f"
          },
          "geo": {
           "bgcolor": "white",
           "lakecolor": "white",
           "landcolor": "#E5ECF6",
           "showlakes": true,
           "showland": true,
           "subunitcolor": "white"
          },
          "hoverlabel": {
           "align": "left"
          },
          "hovermode": "closest",
          "mapbox": {
           "style": "light"
          },
          "paper_bgcolor": "white",
          "plot_bgcolor": "#E5ECF6",
          "polar": {
           "angularaxis": {
            "gridcolor": "white",
            "linecolor": "white",
            "ticks": ""
           },
           "bgcolor": "#E5ECF6",
           "radialaxis": {
            "gridcolor": "white",
            "linecolor": "white",
            "ticks": ""
           }
          },
          "scene": {
           "xaxis": {
            "backgroundcolor": "#E5ECF6",
            "gridcolor": "white",
            "gridwidth": 2,
            "linecolor": "white",
            "showbackground": true,
            "ticks": "",
            "zerolinecolor": "white"
           },
           "yaxis": {
            "backgroundcolor": "#E5ECF6",
            "gridcolor": "white",
            "gridwidth": 2,
            "linecolor": "white",
            "showbackground": true,
            "ticks": "",
            "zerolinecolor": "white"
           },
           "zaxis": {
            "backgroundcolor": "#E5ECF6",
            "gridcolor": "white",
            "gridwidth": 2,
            "linecolor": "white",
            "showbackground": true,
            "ticks": "",
            "zerolinecolor": "white"
           }
          },
          "shapedefaults": {
           "line": {
            "color": "#2a3f5f"
           }
          },
          "ternary": {
           "aaxis": {
            "gridcolor": "white",
            "linecolor": "white",
            "ticks": ""
           },
           "baxis": {
            "gridcolor": "white",
            "linecolor": "white",
            "ticks": ""
           },
           "bgcolor": "#E5ECF6",
           "caxis": {
            "gridcolor": "white",
            "linecolor": "white",
            "ticks": ""
           }
          },
          "title": {
           "x": 0.05
          },
          "xaxis": {
           "automargin": true,
           "gridcolor": "white",
           "linecolor": "white",
           "ticks": "",
           "title": {
            "standoff": 15
           },
           "zerolinecolor": "white",
           "zerolinewidth": 2
          },
          "yaxis": {
           "automargin": true,
           "gridcolor": "white",
           "linecolor": "white",
           "ticks": "",
           "title": {
            "standoff": 15
           },
           "zerolinecolor": "white",
           "zerolinewidth": 2
          }
         }
        },
        "title": {
         "text": "Development of a stock price"
        },
        "xaxis": {
         "anchor": "y",
         "domain": [
          0,
          1
         ],
         "title": {
          "text": "Time"
         }
        },
        "yaxis": {
         "anchor": "x",
         "domain": [
          0,
          1
         ],
         "range": [
          0,
          581.4798469019931
         ],
         "title": {
          "text": "Stock price"
         }
        }
       }
      }
     },
     "metadata": {},
     "output_type": "display_data"
    }
   ],
   "source": [
    "# TODO: Make graphs, regressions look nice.\n",
    "# Challenge: retain uniformity in order not to bias \n",
    "# experimental persuaders/receivers.\n",
    "\n",
    "# TODO: Does plotly require pandas dataframes, or are numpy-array fine, too?\n",
    "# Documentation indicates generally pd. fine.\n",
    "\n",
    "# TODO: Find a dynamic and consistent way to set the axes (y, mostly)\n",
    "\n",
    "\n",
    "shift_point = 40\n",
    "\n",
    "fig = px.line(data.head(80), x=\"Time\", \n",
    "                        y=\"Stock price\",\n",
    "                        labels={'number_obs':'Number of Observations', 'runtime':'runtime'},\n",
    "                        title='Development of a stock price',\n",
    "                        )\n",
    "fig.update_layout(paper_bgcolor='#fff' )\n",
    "fig.update_layout(plot_bgcolor='#fff' )\n",
    "\n",
    "fig.add_shape(type=\"line\",\n",
    "    xref=\"x\", yref=\"y\",\n",
    "    x0=shift_point, y0=0, x1=shift_point, y1=data[\"Stock price\"].max()+100,\n",
    "    line=dict(\n",
    "        color=\"LightSeaGreen\",\n",
    "        width=3,\n",
    "    ),\n",
    ")\n",
    "\n",
    "fig.add_shape(type=\"line\",\n",
    "    xref=\"x\", yref=\"y\",\n",
    "    x0=shift_point, y0=data.iat[shift_point,1], x1=80, y1=data.iat[80,1],\n",
    "    line=dict(\n",
    "        color=\"LightSeaGreen\",\n",
    "        width=3,\n",
    "    ),\n",
    ")\n",
    "\n",
    "fig.add_shape(type=\"line\",\n",
    "    xref=\"x\", yref=\"y\",\n",
    "    x0=0, y0=data.iat[0,1], x1=shift_point, y1=data.iat[shift_point,1],\n",
    "    line=dict(\n",
    "        color=\"LightSeaGreen\",\n",
    "        width=3,\n",
    "    ),\n",
    ")\n",
    "fig.update_yaxes(range=[0, data[\"Stock price\"].max()+100])\n",
    "# fig.to_image(format=\"png\", engine=\"kaleido\")\n",
    "\n",
    "# fig.write_image(pwd + \"/img/fig_test_{}.jpg\".format(shift_point), engine='kaleido')\n",
    "\n"
   ]
  },
  {
   "cell_type": "code",
   "execution_count": 2,
   "metadata": {},
   "outputs": [],
   "source": [
    "#from gen_neutral_graphs import gen_neutral_graphs\n",
    "\n",
    "\n",
    "\n",
    "T_model = 79 \n",
    "\n",
    "t_list_model = np.arange(0,T_model,1,dtype=int)\n",
    "\n",
    "\n",
    "# gen_model_graphs_trunc(data, t_list_model, 81, par_par_cwd )"
   ]
  },
  {
   "cell_type": "code",
   "execution_count": 6,
   "metadata": {},
   "outputs": [],
   "source": [
    "#gen_neutral_graphs_trunc(data, 80, par_par_cwd / \"otree_model_persuasion\" / \"_static\" / \"persuasion\" , \"test_1\")"
   ]
  },
  {
   "cell_type": "code",
   "execution_count": 9,
   "metadata": {},
   "outputs": [],
   "source": [
    "from functions_plotting import * \n",
    "gen_neutral_graphs_trunc(data=data_test_2, trunc=80, target_directory= par_par_cwd / \"otree_model_persuasion\" / \"_static\" / \"persuasion\", data_name=\"test_2\")"
   ]
  },
  {
   "cell_type": "code",
   "execution_count": 11,
   "metadata": {},
   "outputs": [],
   "source": [
    "T_model = 79 \n",
    "t_list_model = np.arange(0,T_model,1,dtype=int)\n",
    "\n",
    "gen_model_graphs_trunc(data=data_test_2, model_space=t_list_model,trunc=80, target_directory= par_par_cwd / \"otree_model_persuasion\" / \"_static\" / \"persuasion\", data_name=\"test_2\")"
   ]
  },
  {
   "cell_type": "code",
   "execution_count": 3,
   "metadata": {},
   "outputs": [],
   "source": [
    "# generate data five times\n",
    "\n",
    "data_1 = generate_data(model_switching_point=40, model_change_sign=\"neg_to_pos\", trend_abs=1, var_errors=10, obs=100, seed=12345)\n",
    "data_2 = generate_data(model_switching_point=20, model_change_sign=\"pos_to_neg\", trend_abs=1, var_errors=10, obs=100, seed=23456)\n",
    "data_3 = generate_data(model_switching_point=60, model_change_sign=\"neg_to_pos\", trend_abs=1, var_errors=10, obs=100, seed=34567)\n",
    "data_4 = generate_data(model_switching_point=30, model_change_sign=\"pos_to_neg\", trend_abs=5, var_errors=20, obs=100, seed=45678)\n",
    "data_5 = generate_data(model_switching_point=50, model_change_sign=\"neg_to_pos\", trend_abs=1, var_errors=30, obs=100, seed=56789)\n",
    "\n",
    "\n"
   ]
  },
  {
   "cell_type": "code",
   "execution_count": 7,
   "metadata": {},
   "outputs": [],
   "source": [
    "\n",
    "dict = {\"1\": data_1, \"2\": data_2, \"3\": data_3, \"4\": data_4, \"5\": data_5}\n",
    "\n",
    "\n",
    "\n",
    "for i in [\"1\", \"2\", \"3\", \"4\", \"5\"]:\n",
    "    gen_model_graphs_trunc(data= dict[i], model_space=t_list_model,trunc=80, target_directory= par_par_cwd / \"otree_model_persuasion\" / \"_static\" / \"persuasion\", data_name=i)"
   ]
  },
  {
   "cell_type": "code",
   "execution_count": 4,
   "metadata": {},
   "outputs": [],
   "source": [
    "\n",
    "dict = {\"1\": data_1, \"2\": data_2, \"3\": data_3, \"4\": data_4, \"5\": data_5}\n",
    "\n",
    "for i in [\"1\", \"2\", \"3\", \"4\", \"5\"]:\n",
    "    gen_neutral_graphs_trunc(data= dict[i], trunc=80, target_directory= par_par_cwd / \"otree_model_persuasion\" / \"_static\" / \"persuasion\", data_name=i)\n"
   ]
  }
 ],
 "metadata": {
  "interpreter": {
   "hash": "0908ce7c1ff9854b9388ce484919ef043f22ee32a637bea40fdaaa5a1335c36c"
  },
  "kernelspec": {
   "display_name": "Python 3.8.8 64-bit ('base': conda)",
   "language": "python",
   "name": "python3"
  },
  "language_info": {
   "codemirror_mode": {
    "name": "ipython",
    "version": 3
   },
   "file_extension": ".py",
   "mimetype": "text/x-python",
   "name": "python",
   "nbconvert_exporter": "python",
   "pygments_lexer": "ipython3",
   "version": "3.8.8"
  },
  "orig_nbformat": 4
 },
 "nbformat": 4,
 "nbformat_minor": 2
}
