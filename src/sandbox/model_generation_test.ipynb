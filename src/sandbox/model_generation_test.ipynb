{
 "cells": [
  {
   "cell_type": "code",
   "execution_count": 1,
   "metadata": {},
   "outputs": [],
   "source": [
    "# Importing the required modules\n",
    "# TODO: Check which libraries remain relevant at the end.\n",
    "import numpy as np\n",
    "\n",
    "import pandas as pd\n",
    "\n",
    "\n",
    "import matplotlib.pyplot as plt\n",
    "\n",
    "import plotly.express as px\n",
    "import plotly.graph_objs as go\n",
    "\n",
    "import os\n",
    "from pathlib import Path\n",
    "\n",
    "\n",
    "pwd = os.getcwd()\n",
    "\n",
    "\n",
    "# Get the current working directory\n",
    "cwd = os.getcwd()\n",
    "# parent_cwd = cwd.parent.absolute()\n",
    "\n",
    "par_par_cwd = Path(cwd).parent.parent\n",
    "\n",
    "\n",
    "\n",
    "\n",
    "# Define own working directory here \n",
    "# os.chdir(r\"/Users/philipp/econ/experiment_model_persuasion/\")\n",
    "\n",
    "\n",
    "pwd = os.getcwd()\n",
    "\n",
    "\n",
    "# Get the current working directory\n",
    "cwd = os.getcwd()\n",
    "# parent_cwd = cwd.parent.absolute()\n",
    "\n",
    "par_par_cwd = Path(cwd).parent.parent\n",
    "\n",
    "par_par_cwd / \"img\"\n",
    "\n",
    "\n",
    "\n",
    "# getting the name of the directory\n",
    "# where the this file is present.\n",
    "# current = os.path.dirname(os.path.realpath(__file__))\n",
    "  \n",
    "# Getting the parent directory name\n",
    "# where the current directory is present.\n",
    "parent = os.path.dirname(pwd)\n",
    "grandparent = os.path.dirname(parent)\n",
    "  \n",
    "# adding the parent directory to \n",
    "# the sys.path.\n",
    "sys.path.append(grandparent)\n",
    "\n",
    "\n",
    "\n",
    "from functions_data_gen import *\n",
    "from functions_plotting import *\n",
    "\n",
    "\n"
   ]
  },
  {
   "cell_type": "code",
   "execution_count": 2,
   "metadata": {},
   "outputs": [],
   "source": [
    "# generate data five times\n",
    "\n",
    "data_1 = generate_data(model_switching_point=40, model_change_sign=\"neg_to_pos\", trend_abs=1, var_errors=10, obs=100, seed=12345)\n",
    "data_2 = generate_data(model_switching_point=20, model_change_sign=\"pos_to_neg\", trend_abs=1, var_errors=10, obs=100, seed=23456)\n",
    "data_3 = generate_data(model_switching_point=60, model_change_sign=\"neg_to_pos\", trend_abs=1, var_errors=10, obs=100, seed=34567)\n",
    "data_4 = generate_data(model_switching_point=30, model_change_sign=\"pos_to_neg\", trend_abs=5, var_errors=20, obs=100, seed=45678)\n",
    "data_5 = generate_data(model_switching_point=50, model_change_sign=\"neg_to_pos\", trend_abs=1, var_errors=30, obs=100, seed=56789)\n",
    "\n",
    "\n"
   ]
  },
  {
   "cell_type": "code",
   "execution_count": 5,
   "metadata": {},
   "outputs": [],
   "source": [
    "# Plot truncated model graphs.\n",
    "dict = {\"1\": data_1, \"2\": data_2, \"3\": data_3, \"4\": data_4, \"5\": data_5}\n",
    "\n",
    "\n",
    "trunc = 80\n",
    "# TODO: This changed here; did I replicate correctedly.\n",
    "t_list_model = np.arange(0,trunc,1,dtype=int)\n",
    "\n",
    "for i in [\"1\", \"2\", \"3\", \"4\", \"5\"]:\n",
    "    gen_model_graphs_trunc(data= dict[i], model_space=t_list_model,trunc=trunc, target_directory= par_par_cwd / \"otree_model_persuasion\" / \"_static\" / \"persuasion\", data_name=i)"
   ]
  },
  {
   "cell_type": "code",
   "execution_count": 6,
   "metadata": {},
   "outputs": [],
   "source": [
    "# plot truncated neutral graphs.\n",
    "dict = {\"1\": data_1, \"2\": data_2, \"3\": data_3, \"4\": data_4, \"5\": data_5}\n",
    "\n",
    "for i in [\"1\", \"2\", \"3\", \"4\", \"5\"]:\n",
    "    gen_neutral_graphs_trunc(data= dict[i], trunc=80, target_directory= par_par_cwd / \"otree_model_persuasion\" / \"_static\" / \"persuasion\", data_name=i)\n"
   ]
  }
 ],
 "metadata": {
  "interpreter": {
   "hash": "0908ce7c1ff9854b9388ce484919ef043f22ee32a637bea40fdaaa5a1335c36c"
  },
  "kernelspec": {
   "display_name": "Python 3.8.8 64-bit ('base': conda)",
   "language": "python",
   "name": "python3"
  },
  "language_info": {
   "codemirror_mode": {
    "name": "ipython",
    "version": 3
   },
   "file_extension": ".py",
   "mimetype": "text/x-python",
   "name": "python",
   "nbconvert_exporter": "python",
   "pygments_lexer": "ipython3",
   "version": "3.8.8"
  },
  "orig_nbformat": 4
 },
 "nbformat": 4,
 "nbformat_minor": 2
}
