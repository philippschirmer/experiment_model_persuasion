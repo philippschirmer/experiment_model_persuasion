{
 "cells": [
  {
   "cell_type": "code",
   "execution_count": 2,
   "metadata": {},
   "outputs": [
    {
     "data": {
      "text/plain": [
       "WindowsPath('c:/Users/caroa/Documents/winter_semester_21_22/EPP/experiment_model_persuasion/img')"
      ]
     },
     "execution_count": 2,
     "metadata": {},
     "output_type": "execute_result"
    }
   ],
   "source": [
    "# Importing the required modules\n",
    "# TODO: Check which libraries remain relevant at the end.\n",
    "import numpy as np\n",
    "\n",
    "import pandas as pd\n",
    "\n",
    "\n",
    "import matplotlib.pyplot as plt\n",
    "\n",
    "import plotly.express as px\n",
    "import plotly.graph_objs as go\n",
    "\n",
    "import os\n",
    "from pathlib import Path\n",
    "\n",
    "from functions_data_gen import *\n",
    "from functions_plotting import *\n",
    "\n",
    "\n",
    "# Define own working directory here \n",
    "# os.chdir(r\"/Users/philipp/econ/experiment_model_persuasion/\")\n",
    "\n",
    "\n",
    "pwd = os.getcwd()\n",
    "\n",
    "\n",
    "# Get the current working directory\n",
    "cwd = os.getcwd()\n",
    "# parent_cwd = cwd.parent.absolute()\n",
    "\n",
    "par_par_cwd = Path(cwd).parent.parent\n",
    "\n",
    "par_par_cwd / \"img\"\n",
    "\n",
    "\n",
    "\n"
   ]
  },
  {
   "cell_type": "code",
   "execution_count": 3,
   "metadata": {},
   "outputs": [],
   "source": [
    "# generate data five times\n",
    "\n",
    "data_1 = generate_data(model_switching_point=40, model_change_sign=\"neg_to_pos\", trend_abs=1, var_errors=10, obs=100, seed=12345)\n",
    "data_2 = generate_data(model_switching_point=20, model_change_sign=\"pos_to_neg\", trend_abs=1, var_errors=10, obs=100, seed=23456)\n",
    "data_3 = generate_data(model_switching_point=60, model_change_sign=\"neg_to_pos\", trend_abs=1, var_errors=10, obs=100, seed=34567)\n",
    "data_4 = generate_data(model_switching_point=30, model_change_sign=\"pos_to_neg\", trend_abs=5, var_errors=20, obs=100, seed=45678)\n",
    "data_5 = generate_data(model_switching_point=50, model_change_sign=\"neg_to_pos\", trend_abs=1, var_errors=30, obs=100, seed=56789)\n",
    "\n",
    "\n"
   ]
  },
  {
   "cell_type": "code",
   "execution_count": 6,
   "metadata": {},
   "outputs": [
    {
     "data": {
      "text/plain": [
       "'c:\\\\Users\\\\caroa\\\\Documents\\\\winter_semester_21_22\\\\EPP\\\\experiment_model_persuasion\\\\src\\\\sandbox'"
      ]
     },
     "execution_count": 6,
     "metadata": {},
     "output_type": "execute_result"
    }
   ],
   "source": [
    "data_1\n"
   ]
  },
  {
   "cell_type": "code",
   "execution_count": 22,
   "metadata": {},
   "outputs": [],
   "source": [
    "data_csv=data_1.to_csv(\"data_1.csv\", sep=\",\", index=False)"
   ]
  },
  {
   "cell_type": "code",
   "execution_count": 23,
   "metadata": {},
   "outputs": [
    {
     "data": {
      "text/html": [
       "<div>\n",
       "<style scoped>\n",
       "    .dataframe tbody tr th:only-of-type {\n",
       "        vertical-align: middle;\n",
       "    }\n",
       "\n",
       "    .dataframe tbody tr th {\n",
       "        vertical-align: top;\n",
       "    }\n",
       "\n",
       "    .dataframe thead th {\n",
       "        text-align: right;\n",
       "    }\n",
       "</style>\n",
       "<table border=\"1\" class=\"dataframe\">\n",
       "  <thead>\n",
       "    <tr style=\"text-align: right;\">\n",
       "      <th></th>\n",
       "      <th>Time</th>\n",
       "      <th>Stock price</th>\n",
       "    </tr>\n",
       "  </thead>\n",
       "  <tbody>\n",
       "    <tr>\n",
       "      <th>0</th>\n",
       "      <td>0.0</td>\n",
       "      <td>120.930393</td>\n",
       "    </tr>\n",
       "    <tr>\n",
       "      <th>1</th>\n",
       "      <td>1.0</td>\n",
       "      <td>134.567678</td>\n",
       "    </tr>\n",
       "    <tr>\n",
       "      <th>2</th>\n",
       "      <td>2.0</td>\n",
       "      <td>126.861060</td>\n",
       "    </tr>\n",
       "    <tr>\n",
       "      <th>3</th>\n",
       "      <td>3.0</td>\n",
       "      <td>125.269328</td>\n",
       "    </tr>\n",
       "    <tr>\n",
       "      <th>4</th>\n",
       "      <td>4.0</td>\n",
       "      <td>125.515895</td>\n",
       "    </tr>\n",
       "    <tr>\n",
       "      <th>...</th>\n",
       "      <td>...</td>\n",
       "      <td>...</td>\n",
       "    </tr>\n",
       "    <tr>\n",
       "      <th>95</th>\n",
       "      <td>95.0</td>\n",
       "      <td>109.096539</td>\n",
       "    </tr>\n",
       "    <tr>\n",
       "      <th>96</th>\n",
       "      <td>96.0</td>\n",
       "      <td>104.501743</td>\n",
       "    </tr>\n",
       "    <tr>\n",
       "      <th>97</th>\n",
       "      <td>97.0</td>\n",
       "      <td>96.015303</td>\n",
       "    </tr>\n",
       "    <tr>\n",
       "      <th>98</th>\n",
       "      <td>98.0</td>\n",
       "      <td>85.360514</td>\n",
       "    </tr>\n",
       "    <tr>\n",
       "      <th>99</th>\n",
       "      <td>99.0</td>\n",
       "      <td>87.960860</td>\n",
       "    </tr>\n",
       "  </tbody>\n",
       "</table>\n",
       "<p>100 rows × 2 columns</p>\n",
       "</div>"
      ],
      "text/plain": [
       "    Time  Stock price\n",
       "0    0.0   120.930393\n",
       "1    1.0   134.567678\n",
       "2    2.0   126.861060\n",
       "3    3.0   125.269328\n",
       "4    4.0   125.515895\n",
       "..   ...          ...\n",
       "95  95.0   109.096539\n",
       "96  96.0   104.501743\n",
       "97  97.0    96.015303\n",
       "98  98.0    85.360514\n",
       "99  99.0    87.960860\n",
       "\n",
       "[100 rows x 2 columns]"
      ]
     },
     "execution_count": 23,
     "metadata": {},
     "output_type": "execute_result"
    }
   ],
   "source": [
    "data_back = pd.read_csv(\"data_1.csv\")\n",
    "data_back"
   ]
  },
  {
   "cell_type": "code",
   "execution_count": 24,
   "metadata": {},
   "outputs": [],
   "source": [
    "def data_csv(sample, path):\n",
    "    sample.to_csv(path, sep=\",\", index=False)"
   ]
  },
  {
   "cell_type": "code",
   "execution_count": 25,
   "metadata": {},
   "outputs": [],
   "source": [
    "data_csv(data_1, \"data_1_csv\")"
   ]
  },
  {
   "cell_type": "code",
   "execution_count": 27,
   "metadata": {},
   "outputs": [
    {
     "data": {
      "text/plain": [
       "WindowsPath('.')"
      ]
     },
     "execution_count": 27,
     "metadata": {},
     "output_type": "execute_result"
    }
   ],
   "source": [
    "ROOT = Path(\"data_managment\").parent.parent\n",
    "ROOT"
   ]
  },
  {
   "cell_type": "code",
   "execution_count": 7,
   "metadata": {},
   "outputs": [],
   "source": [
    "# Plot truncated model graphs.\n",
    "dict = {\"1\": data_1, \"2\": data_2, \"3\": data_3, \"4\": data_4, \"5\": data_5}\n",
    "\n",
    "\n",
    "\n",
    "for i in [\"1\", \"2\", \"3\", \"4\", \"5\"]:\n",
    "    gen_model_graphs_trunc(data= dict[i], model_space=t_list_model,trunc=80, target_directory= par_par_cwd / \"otree_model_persuasion\" / \"_static\" / \"persuasion\", data_name=i)"
   ]
  },
  {
   "cell_type": "code",
   "execution_count": 4,
   "metadata": {},
   "outputs": [],
   "source": [
    "# plot truncated neutral graphs.\n",
    "dict = {\"1\": data_1, \"2\": data_2, \"3\": data_3, \"4\": data_4, \"5\": data_5}\n",
    "\n",
    "for i in [\"1\", \"2\", \"3\", \"4\", \"5\"]:\n",
    "    gen_neutral_graphs_trunc(data= dict[i], trunc=80, target_directory= par_par_cwd / \"otree_model_persuasion\" / \"_static\" / \"persuasion\", data_name=i)\n"
   ]
  }
 ],
 "metadata": {
  "interpreter": {
   "hash": "0908ce7c1ff9854b9388ce484919ef043f22ee32a637bea40fdaaa5a1335c36c"
  },
  "kernelspec": {
   "display_name": "Python 3.8.8 64-bit ('base': conda)",
   "language": "python",
   "name": "python3"
  },
  "language_info": {
   "codemirror_mode": {
    "name": "ipython",
    "version": 3
   },
   "file_extension": ".py",
   "mimetype": "text/x-python",
   "name": "python",
   "nbconvert_exporter": "python",
   "pygments_lexer": "ipython3",
   "version": "3.8.8"
  },
  "orig_nbformat": 4
 },
 "nbformat": 4,
 "nbformat_minor": 2
}
