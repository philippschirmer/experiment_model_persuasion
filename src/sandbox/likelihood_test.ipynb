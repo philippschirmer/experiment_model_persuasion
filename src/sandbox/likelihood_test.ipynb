{
 "cells": [
  {
   "cell_type": "code",
   "execution_count": 6,
   "metadata": {},
   "outputs": [],
   "source": [
    "# Work in progress, Code to calculate likelihoods for the given models\n",
    "# Goal is to map the model messages into likelihoods and assess which model is the best\n",
    "# from a \"Bayesian\" perspective (with uniform prior), as well as which models are better \"fitting\"\n",
    "# than the baseline model. \n",
    "\n",
    "from src.config import BLD, EXP\n",
    "\n",
    "import pandas as pd\n",
    "\n",
    "import numpy as np\n",
    "\n",
    "import pytask\n",
    "import plotly.express as px\n",
    "\n",
    "import math\n"
   ]
  },
  {
   "cell_type": "code",
   "execution_count": 3,
   "metadata": {},
   "outputs": [],
   "source": [
    "\n",
    "\n",
    "def calc_likelihood():\n",
    "    ''' Inputs:\n",
    "        Data\n",
    "        Model class\n",
    "        Model spec - Int - \n",
    "\n",
    "        fitted_params\n",
    "\n",
    "        Outputs:\n",
    "\n",
    "        likelihood\n",
    "\n",
    "\n",
    "    '''\n",
    "\n",
    "    pass\n",
    "\n",
    "\n",
    "# Sandbox; Work with existing data\n",
    "\n",
    "#\n",
    "\n",
    "def fit_model():\n",
    "    '''\n",
    "    Calculate optimal parameters for a given model, e.g. switching point.\n",
    "\n",
    "    Makes sense to calc params separately from likelihood, as they are also relevant to assess e.g. the prediction of the model.\n",
    "    \n",
    "    Inputs:\n",
    "    data\n",
    "    model\n",
    "    variance\n",
    "\n",
    "    Outputs\n",
    "\n",
    "    fitted_params\n",
    "\n",
    "    '''\n",
    "    pass\n",
    "\n",
    "\n",
    "# For e.g. model_choice=50, fit two sub models; linear regression optimal? -> yes\n",
    "\n",
    "# Better: Look at first differences, estimate average increase -- optimal trend estimate?\n",
    "# \n",
    "\n"
   ]
  },
  {
   "cell_type": "code",
   "execution_count": 37,
   "metadata": {},
   "outputs": [],
   "source": [
    "\n",
    "data= pd.read_csv(BLD / \"data/data_5.csv\") \n",
    "\n",
    "n_models=80\n",
    "\n",
    "models = range(1,n_models,1)\n",
    "\n",
    "lg_likelihood= np.zeros(len(models)+1)\n"
   ]
  },
  {
   "cell_type": "code",
   "execution_count": 62,
   "metadata": {},
   "outputs": [
    {
     "name": "stderr",
     "output_type": "stream",
     "text": [
      "<ipython-input-62-906bba27b965>:26: SettingWithCopyWarning:\n",
      "\n",
      "\n",
      "A value is trying to be set on a copy of a slice from a DataFrame.\n",
      "Try using .loc[row_indexer,col_indexer] = value instead\n",
      "\n",
      "See the caveats in the documentation: https://pandas.pydata.org/pandas-docs/stable/user_guide/indexing.html#returning-a-view-versus-a-copy\n",
      "\n",
      "<ipython-input-62-906bba27b965>:44: SettingWithCopyWarning:\n",
      "\n",
      "\n",
      "A value is trying to be set on a copy of a slice from a DataFrame.\n",
      "Try using .loc[row_indexer,col_indexer] = value instead\n",
      "\n",
      "See the caveats in the documentation: https://pandas.pydata.org/pandas-docs/stable/user_guide/indexing.html#returning-a-view-versus-a-copy\n",
      "\n"
     ]
    },
    {
     "data": {
      "text/plain": [
       "array([    0.        , -4193.98524345, -4150.54722639, -4117.11130629,\n",
       "       -4079.6124935 , -4168.51488966, -4055.85921968, -4177.3877445 ,\n",
       "       -4177.60594242, -4176.36103565, -4094.9278722 , -4159.73433384,\n",
       "       -3861.67831994, -4123.01245938, -4150.28581481, -4150.54406175,\n",
       "       -4148.32207449, -3986.76288393, -4095.10119203, -4026.89408045,\n",
       "       -4089.05467716, -4102.79257425, -4083.79932653, -4138.85412331,\n",
       "       -4111.0368752 , -4078.85328495, -4146.27338126, -4105.36382095,\n",
       "       -3997.4254988 , -4131.4500474 , -4137.4347313 , -4093.84745942,\n",
       "       -4162.61037477, -4062.6978687 , -4157.68892496, -4103.79503143,\n",
       "       -4171.04135866, -4177.86120699, -4175.04562524, -4183.34940783,\n",
       "       -4182.06244422, -4152.77193184, -4170.60434503, -4178.33265825,\n",
       "       -4180.55173376, -4179.81930478, -4151.35479639, -4164.6561642 ,\n",
       "       -4110.12923767, -4089.81343975, -4105.67508458, -4119.43580226,\n",
       "       -4062.39709521, -4080.98521844, -4124.39469115, -4114.88381461,\n",
       "       -4088.53279096, -4131.58994316, -4147.26172247, -4152.60286614,\n",
       "       -4134.75087849, -4137.28548133, -4106.34975396, -3692.679463  ,\n",
       "       -4114.5939657 , -4163.86532222, -4067.64978131, -4127.66336346,\n",
       "       -4083.191967  , -4155.41367945, -4131.24820151, -4165.92396855,\n",
       "       -4177.97704377, -4181.49196644, -4163.15933664, -4182.3101473 ,\n",
       "       -4171.44217819, -4180.73747398, -3940.63963548, -4136.77813127])"
      ]
     },
     "execution_count": 62,
     "metadata": {},
     "output_type": "execute_result"
    }
   ],
   "source": [
    "# TODO: Turn into function that can be called.\n",
    "\n",
    "# TODO: Remove set variance, make part of the function\n",
    "variance = 10\n",
    "\n",
    "# TODO: Make model choice dynamic, so we can loop over it.\n",
    "\n",
    "\n",
    "lg_likelihood_1 = np.zeros(n_models)\n",
    "lg_likelihood_2 = np.zeros(n_models)\n",
    "lg_likelihood = np.zeros(n_models)\n",
    "\n",
    "\n",
    "for i in models:\n",
    "\n",
    "    n_1 = i\n",
    "    n_2= n_models - i\n",
    "\n",
    "    data_1 = data[0:i]\n",
    "    data_2 = data[i : -1]\n",
    "\n",
    "# Differentiate series\n",
    "\n",
    "    data_1_diff = data_1\n",
    "\n",
    "    data_1_diff[\"Stock price change\"] = data_1[\"Stock price\"].diff()\n",
    "\n",
    "    data_1_diff.drop(0)\n",
    "\n",
    "    mean_test = data_1_diff[\"Stock price change\"].mean()\n",
    "\n",
    "\n",
    "    data_diff_sq = (data_1_diff[\"Stock price change\"] - mean_test) ** 2\n",
    "\n",
    "    # calculating log likelihood#\n",
    "\n",
    "    lg_likelihood_1[i] = - n_1 / 2 * math.log(2 * math.pi) - n_1 /2 * math.log(variance) - 1 / (2 * variance) * data_diff_sq.sum()\n",
    "\n",
    "\n",
    "    # Second half of likelihood contributions:\n",
    "\n",
    "    data_2_diff = data_2\n",
    "\n",
    "    data_2_diff[\"Stock price change\"] = data_2[\"Stock price\"].diff()\n",
    "\n",
    "   # if i<49:\n",
    "   #     data_2_diff.drop(0)\n",
    "\n",
    "    # Test:\n",
    "\n",
    "    mean_test_2 = data_2_diff[\"Stock price change\"].mean()\n",
    "\n",
    "\n",
    "\n",
    "    data_2_diff_sq = (data_2_diff[\"Stock price change\"] - mean_test_2) ** 2\n",
    "\n",
    "    # calculating log likelihood\n",
    "\n",
    "    lg_likelihood_2[i] = - n_2 / 2 * math.log(2 * math.pi) - n_2/2 * math.log(variance) - 1 / (2 * variance) * data_2_diff_sq.sum()\n",
    "\n",
    "\n",
    "    lg_likelihood[i]= lg_likelihood_1[i] + lg_likelihood_2[i]\n",
    "#    lg_likelihood[i] = - n / 2 * math.log(2 * math.pi) - n/2 * math.log(variance) - 1 / (2 * variance) * data_diff_sq.sum()\n",
    "\n",
    "\n",
    "lg_likelihood\n",
    "\n",
    "# Look at pre-built likelihood calcs\n",
    "\n",
    "\n",
    "# Formula for calculating the likelihood\n",
    "# likelihood = (2 * math.pi * variance) ** (- n / 2) \n",
    "\n",
    "#* math.exp( - 1 / (2 * variance) * sum(data_test[\"Stock price change\"] - mean_test))\n",
    "\n"
   ]
  },
  {
   "cell_type": "code",
   "execution_count": 61,
   "metadata": {},
   "outputs": [
    {
     "data": {
      "application/vnd.plotly.v1+json": {
       "config": {
        "plotlyServerURL": "https://plot.ly"
       },
       "data": [
        {
         "hovertemplate": "variable=0<br>index=%{x}<br>value=%{y}<extra></extra>",
         "legendgroup": "0",
         "line": {
          "color": "#636efa",
          "dash": "solid"
         },
         "marker": {
          "symbol": "circle"
         },
         "mode": "lines",
         "name": "0",
         "orientation": "v",
         "showlegend": true,
         "type": "scatter",
         "x": [
          0,
          1,
          2,
          3,
          4,
          5,
          6,
          7,
          8,
          9,
          10,
          11,
          12,
          13,
          14,
          15,
          16,
          17,
          18,
          19,
          20,
          21,
          22,
          23,
          24,
          25,
          26,
          27,
          28,
          29,
          30,
          31,
          32,
          33,
          34,
          35,
          36,
          37,
          38,
          39,
          40,
          41,
          42,
          43,
          44,
          45,
          46,
          47,
          48,
          49,
          50,
          51,
          52,
          53,
          54,
          55,
          56,
          57,
          58,
          59,
          60,
          61,
          62,
          63,
          64,
          65,
          66,
          67,
          68,
          69,
          70,
          71,
          72,
          73,
          74,
          75,
          76,
          77,
          78
         ],
         "xaxis": "x",
         "y": [
          -4193.985243449805,
          -4150.547226387676,
          -4117.111306291396,
          -4079.6124934988857,
          -4168.514889664208,
          -4055.8592196841328,
          -4177.3877444999025,
          -4177.605942424291,
          -4176.361035645861,
          -4094.927872199083,
          -4159.734333837223,
          -3861.6783199397805,
          -4123.01245937916,
          -4150.28581481039,
          -4150.544061745166,
          -4148.322074493791,
          -3986.7628839259064,
          -4095.101192030066,
          -4026.8940804453987,
          -4089.054677160426,
          -4102.79257424723,
          -4083.7993265294,
          -4138.854123313318,
          -4111.036875198468,
          -4078.853284948217,
          -4146.2733812642155,
          -4105.36382094954,
          -3997.4254987965314,
          -4131.450047399286,
          -4137.434731298503,
          -4093.847459424784,
          -4162.610374774035,
          -4062.697868701677,
          -4157.688924957585,
          -4103.795031427857,
          -4171.041358663142,
          -4177.8612069870105,
          -4175.045625237979,
          -4183.349407832692,
          -4182.062444215202,
          -4152.7719318392565,
          -4170.604345033325,
          -4178.3326582511,
          -4180.551733758346,
          -4179.819304775443,
          -4151.354796394774,
          -4164.656164197962,
          -4110.129237669791,
          -4089.813439745149,
          -4105.6750845816105,
          -4119.435802255354,
          -4062.39709521174,
          -4080.985218438388,
          -4124.394691147928,
          -4114.883814605341,
          -4088.5327909557122,
          -4131.589943160661,
          -4147.261722470912,
          -4152.6028661382825,
          -4134.750878489508,
          -4137.285481330779,
          -4106.349753962078,
          -3692.6794629986994,
          -4114.593965700741,
          -4163.865322221692,
          -4067.6497813059077,
          -4127.663363458565,
          -4083.191967004036,
          -4155.413679451374,
          -4131.248201510243,
          -4165.923968547689,
          -4177.977043773979,
          -4181.491966444495,
          -4163.15933663894,
          -4182.3101473013,
          -4171.442178186779,
          -4180.737473982322,
          -3940.6396354804087,
          -4136.778131272419
         ],
         "yaxis": "y"
        }
       ],
       "layout": {
        "legend": {
         "title": {
          "text": "variable"
         },
         "tracegroupgap": 0
        },
        "paper_bgcolor": "#fff",
        "plot_bgcolor": "#fff",
        "template": {
         "data": {
          "bar": [
           {
            "error_x": {
             "color": "#2a3f5f"
            },
            "error_y": {
             "color": "#2a3f5f"
            },
            "marker": {
             "line": {
              "color": "#E5ECF6",
              "width": 0.5
             },
             "pattern": {
              "fillmode": "overlay",
              "size": 10,
              "solidity": 0.2
             }
            },
            "type": "bar"
           }
          ],
          "barpolar": [
           {
            "marker": {
             "line": {
              "color": "#E5ECF6",
              "width": 0.5
             },
             "pattern": {
              "fillmode": "overlay",
              "size": 10,
              "solidity": 0.2
             }
            },
            "type": "barpolar"
           }
          ],
          "carpet": [
           {
            "aaxis": {
             "endlinecolor": "#2a3f5f",
             "gridcolor": "white",
             "linecolor": "white",
             "minorgridcolor": "white",
             "startlinecolor": "#2a3f5f"
            },
            "baxis": {
             "endlinecolor": "#2a3f5f",
             "gridcolor": "white",
             "linecolor": "white",
             "minorgridcolor": "white",
             "startlinecolor": "#2a3f5f"
            },
            "type": "carpet"
           }
          ],
          "choropleth": [
           {
            "colorbar": {
             "outlinewidth": 0,
             "ticks": ""
            },
            "type": "choropleth"
           }
          ],
          "contour": [
           {
            "colorbar": {
             "outlinewidth": 0,
             "ticks": ""
            },
            "colorscale": [
             [
              0,
              "#0d0887"
             ],
             [
              0.1111111111111111,
              "#46039f"
             ],
             [
              0.2222222222222222,
              "#7201a8"
             ],
             [
              0.3333333333333333,
              "#9c179e"
             ],
             [
              0.4444444444444444,
              "#bd3786"
             ],
             [
              0.5555555555555556,
              "#d8576b"
             ],
             [
              0.6666666666666666,
              "#ed7953"
             ],
             [
              0.7777777777777778,
              "#fb9f3a"
             ],
             [
              0.8888888888888888,
              "#fdca26"
             ],
             [
              1,
              "#f0f921"
             ]
            ],
            "type": "contour"
           }
          ],
          "contourcarpet": [
           {
            "colorbar": {
             "outlinewidth": 0,
             "ticks": ""
            },
            "type": "contourcarpet"
           }
          ],
          "heatmap": [
           {
            "colorbar": {
             "outlinewidth": 0,
             "ticks": ""
            },
            "colorscale": [
             [
              0,
              "#0d0887"
             ],
             [
              0.1111111111111111,
              "#46039f"
             ],
             [
              0.2222222222222222,
              "#7201a8"
             ],
             [
              0.3333333333333333,
              "#9c179e"
             ],
             [
              0.4444444444444444,
              "#bd3786"
             ],
             [
              0.5555555555555556,
              "#d8576b"
             ],
             [
              0.6666666666666666,
              "#ed7953"
             ],
             [
              0.7777777777777778,
              "#fb9f3a"
             ],
             [
              0.8888888888888888,
              "#fdca26"
             ],
             [
              1,
              "#f0f921"
             ]
            ],
            "type": "heatmap"
           }
          ],
          "heatmapgl": [
           {
            "colorbar": {
             "outlinewidth": 0,
             "ticks": ""
            },
            "colorscale": [
             [
              0,
              "#0d0887"
             ],
             [
              0.1111111111111111,
              "#46039f"
             ],
             [
              0.2222222222222222,
              "#7201a8"
             ],
             [
              0.3333333333333333,
              "#9c179e"
             ],
             [
              0.4444444444444444,
              "#bd3786"
             ],
             [
              0.5555555555555556,
              "#d8576b"
             ],
             [
              0.6666666666666666,
              "#ed7953"
             ],
             [
              0.7777777777777778,
              "#fb9f3a"
             ],
             [
              0.8888888888888888,
              "#fdca26"
             ],
             [
              1,
              "#f0f921"
             ]
            ],
            "type": "heatmapgl"
           }
          ],
          "histogram": [
           {
            "marker": {
             "pattern": {
              "fillmode": "overlay",
              "size": 10,
              "solidity": 0.2
             }
            },
            "type": "histogram"
           }
          ],
          "histogram2d": [
           {
            "colorbar": {
             "outlinewidth": 0,
             "ticks": ""
            },
            "colorscale": [
             [
              0,
              "#0d0887"
             ],
             [
              0.1111111111111111,
              "#46039f"
             ],
             [
              0.2222222222222222,
              "#7201a8"
             ],
             [
              0.3333333333333333,
              "#9c179e"
             ],
             [
              0.4444444444444444,
              "#bd3786"
             ],
             [
              0.5555555555555556,
              "#d8576b"
             ],
             [
              0.6666666666666666,
              "#ed7953"
             ],
             [
              0.7777777777777778,
              "#fb9f3a"
             ],
             [
              0.8888888888888888,
              "#fdca26"
             ],
             [
              1,
              "#f0f921"
             ]
            ],
            "type": "histogram2d"
           }
          ],
          "histogram2dcontour": [
           {
            "colorbar": {
             "outlinewidth": 0,
             "ticks": ""
            },
            "colorscale": [
             [
              0,
              "#0d0887"
             ],
             [
              0.1111111111111111,
              "#46039f"
             ],
             [
              0.2222222222222222,
              "#7201a8"
             ],
             [
              0.3333333333333333,
              "#9c179e"
             ],
             [
              0.4444444444444444,
              "#bd3786"
             ],
             [
              0.5555555555555556,
              "#d8576b"
             ],
             [
              0.6666666666666666,
              "#ed7953"
             ],
             [
              0.7777777777777778,
              "#fb9f3a"
             ],
             [
              0.8888888888888888,
              "#fdca26"
             ],
             [
              1,
              "#f0f921"
             ]
            ],
            "type": "histogram2dcontour"
           }
          ],
          "mesh3d": [
           {
            "colorbar": {
             "outlinewidth": 0,
             "ticks": ""
            },
            "type": "mesh3d"
           }
          ],
          "parcoords": [
           {
            "line": {
             "colorbar": {
              "outlinewidth": 0,
              "ticks": ""
             }
            },
            "type": "parcoords"
           }
          ],
          "pie": [
           {
            "automargin": true,
            "type": "pie"
           }
          ],
          "scatter": [
           {
            "marker": {
             "colorbar": {
              "outlinewidth": 0,
              "ticks": ""
             }
            },
            "type": "scatter"
           }
          ],
          "scatter3d": [
           {
            "line": {
             "colorbar": {
              "outlinewidth": 0,
              "ticks": ""
             }
            },
            "marker": {
             "colorbar": {
              "outlinewidth": 0,
              "ticks": ""
             }
            },
            "type": "scatter3d"
           }
          ],
          "scattercarpet": [
           {
            "marker": {
             "colorbar": {
              "outlinewidth": 0,
              "ticks": ""
             }
            },
            "type": "scattercarpet"
           }
          ],
          "scattergeo": [
           {
            "marker": {
             "colorbar": {
              "outlinewidth": 0,
              "ticks": ""
             }
            },
            "type": "scattergeo"
           }
          ],
          "scattergl": [
           {
            "marker": {
             "colorbar": {
              "outlinewidth": 0,
              "ticks": ""
             }
            },
            "type": "scattergl"
           }
          ],
          "scattermapbox": [
           {
            "marker": {
             "colorbar": {
              "outlinewidth": 0,
              "ticks": ""
             }
            },
            "type": "scattermapbox"
           }
          ],
          "scatterpolar": [
           {
            "marker": {
             "colorbar": {
              "outlinewidth": 0,
              "ticks": ""
             }
            },
            "type": "scatterpolar"
           }
          ],
          "scatterpolargl": [
           {
            "marker": {
             "colorbar": {
              "outlinewidth": 0,
              "ticks": ""
             }
            },
            "type": "scatterpolargl"
           }
          ],
          "scatterternary": [
           {
            "marker": {
             "colorbar": {
              "outlinewidth": 0,
              "ticks": ""
             }
            },
            "type": "scatterternary"
           }
          ],
          "surface": [
           {
            "colorbar": {
             "outlinewidth": 0,
             "ticks": ""
            },
            "colorscale": [
             [
              0,
              "#0d0887"
             ],
             [
              0.1111111111111111,
              "#46039f"
             ],
             [
              0.2222222222222222,
              "#7201a8"
             ],
             [
              0.3333333333333333,
              "#9c179e"
             ],
             [
              0.4444444444444444,
              "#bd3786"
             ],
             [
              0.5555555555555556,
              "#d8576b"
             ],
             [
              0.6666666666666666,
              "#ed7953"
             ],
             [
              0.7777777777777778,
              "#fb9f3a"
             ],
             [
              0.8888888888888888,
              "#fdca26"
             ],
             [
              1,
              "#f0f921"
             ]
            ],
            "type": "surface"
           }
          ],
          "table": [
           {
            "cells": {
             "fill": {
              "color": "#EBF0F8"
             },
             "line": {
              "color": "white"
             }
            },
            "header": {
             "fill": {
              "color": "#C8D4E3"
             },
             "line": {
              "color": "white"
             }
            },
            "type": "table"
           }
          ]
         },
         "layout": {
          "annotationdefaults": {
           "arrowcolor": "#2a3f5f",
           "arrowhead": 0,
           "arrowwidth": 1
          },
          "autotypenumbers": "strict",
          "coloraxis": {
           "colorbar": {
            "outlinewidth": 0,
            "ticks": ""
           }
          },
          "colorscale": {
           "diverging": [
            [
             0,
             "#8e0152"
            ],
            [
             0.1,
             "#c51b7d"
            ],
            [
             0.2,
             "#de77ae"
            ],
            [
             0.3,
             "#f1b6da"
            ],
            [
             0.4,
             "#fde0ef"
            ],
            [
             0.5,
             "#f7f7f7"
            ],
            [
             0.6,
             "#e6f5d0"
            ],
            [
             0.7,
             "#b8e186"
            ],
            [
             0.8,
             "#7fbc41"
            ],
            [
             0.9,
             "#4d9221"
            ],
            [
             1,
             "#276419"
            ]
           ],
           "sequential": [
            [
             0,
             "#0d0887"
            ],
            [
             0.1111111111111111,
             "#46039f"
            ],
            [
             0.2222222222222222,
             "#7201a8"
            ],
            [
             0.3333333333333333,
             "#9c179e"
            ],
            [
             0.4444444444444444,
             "#bd3786"
            ],
            [
             0.5555555555555556,
             "#d8576b"
            ],
            [
             0.6666666666666666,
             "#ed7953"
            ],
            [
             0.7777777777777778,
             "#fb9f3a"
            ],
            [
             0.8888888888888888,
             "#fdca26"
            ],
            [
             1,
             "#f0f921"
            ]
           ],
           "sequentialminus": [
            [
             0,
             "#0d0887"
            ],
            [
             0.1111111111111111,
             "#46039f"
            ],
            [
             0.2222222222222222,
             "#7201a8"
            ],
            [
             0.3333333333333333,
             "#9c179e"
            ],
            [
             0.4444444444444444,
             "#bd3786"
            ],
            [
             0.5555555555555556,
             "#d8576b"
            ],
            [
             0.6666666666666666,
             "#ed7953"
            ],
            [
             0.7777777777777778,
             "#fb9f3a"
            ],
            [
             0.8888888888888888,
             "#fdca26"
            ],
            [
             1,
             "#f0f921"
            ]
           ]
          },
          "colorway": [
           "#636efa",
           "#EF553B",
           "#00cc96",
           "#ab63fa",
           "#FFA15A",
           "#19d3f3",
           "#FF6692",
           "#B6E880",
           "#FF97FF",
           "#FECB52"
          ],
          "font": {
           "color": "#2a3f5f"
          },
          "geo": {
           "bgcolor": "white",
           "lakecolor": "white",
           "landcolor": "#E5ECF6",
           "showlakes": true,
           "showland": true,
           "subunitcolor": "white"
          },
          "hoverlabel": {
           "align": "left"
          },
          "hovermode": "closest",
          "mapbox": {
           "style": "light"
          },
          "paper_bgcolor": "white",
          "plot_bgcolor": "#E5ECF6",
          "polar": {
           "angularaxis": {
            "gridcolor": "white",
            "linecolor": "white",
            "ticks": ""
           },
           "bgcolor": "#E5ECF6",
           "radialaxis": {
            "gridcolor": "white",
            "linecolor": "white",
            "ticks": ""
           }
          },
          "scene": {
           "xaxis": {
            "backgroundcolor": "#E5ECF6",
            "gridcolor": "white",
            "gridwidth": 2,
            "linecolor": "white",
            "showbackground": true,
            "ticks": "",
            "zerolinecolor": "white"
           },
           "yaxis": {
            "backgroundcolor": "#E5ECF6",
            "gridcolor": "white",
            "gridwidth": 2,
            "linecolor": "white",
            "showbackground": true,
            "ticks": "",
            "zerolinecolor": "white"
           },
           "zaxis": {
            "backgroundcolor": "#E5ECF6",
            "gridcolor": "white",
            "gridwidth": 2,
            "linecolor": "white",
            "showbackground": true,
            "ticks": "",
            "zerolinecolor": "white"
           }
          },
          "shapedefaults": {
           "line": {
            "color": "#2a3f5f"
           }
          },
          "ternary": {
           "aaxis": {
            "gridcolor": "white",
            "linecolor": "white",
            "ticks": ""
           },
           "baxis": {
            "gridcolor": "white",
            "linecolor": "white",
            "ticks": ""
           },
           "bgcolor": "#E5ECF6",
           "caxis": {
            "gridcolor": "white",
            "linecolor": "white",
            "ticks": ""
           }
          },
          "title": {
           "x": 0.05
          },
          "xaxis": {
           "automargin": true,
           "gridcolor": "white",
           "linecolor": "white",
           "ticks": "",
           "title": {
            "standoff": 15
           },
           "zerolinecolor": "white",
           "zerolinewidth": 2
          },
          "yaxis": {
           "automargin": true,
           "gridcolor": "white",
           "linecolor": "white",
           "ticks": "",
           "title": {
            "standoff": 15
           },
           "zerolinecolor": "white",
           "zerolinewidth": 2
          }
         }
        },
        "title": {
         "text": "Likelihood for different model switching points"
        },
        "xaxis": {
         "anchor": "y",
         "domain": [
          0,
          1
         ],
         "title": {
          "text": "index"
         }
        },
        "yaxis": {
         "anchor": "x",
         "domain": [
          0,
          1
         ],
         "range": [
          -5000,
          -3000
         ],
         "title": {
          "text": "value"
         }
        }
       }
      }
     },
     "metadata": {},
     "output_type": "display_data"
    }
   ],
   "source": [
    "        fig = px.line(lg_likelihood[1:], labels={'number_obs':'Number of Observations', 'runtime':'runtime'},\n",
    "                            title='Likelihood for different model switching points',\n",
    "                            )\n",
    "        fig.update_yaxes(range=[-5000, -3000])\n",
    "        fig.update_layout(paper_bgcolor='#fff' )\n",
    "        fig.update_layout(plot_bgcolor='#fff' )\n",
    "\n"
   ]
  },
  {
   "cell_type": "code",
   "execution_count": 59,
   "metadata": {},
   "outputs": [
    {
     "data": {
      "text/plain": [
       "array([0., 0., 0., 0., 0., 0., 0., 0., 0., 0., 0., 0., 0., 0., 0., 0., 0.,\n",
       "       0., 0., 0., 0., 0., 0., 0., 0., 0., 0., 0., 0., 0., 0., 0., 0., 0.,\n",
       "       0., 0., 0., 0., 0., 0., 0., 0., 0., 0., 0., 0., 0., 0., 0., 0., 0.,\n",
       "       0., 0., 0., 0., 0., 0., 0., 0., 0., 0., 0., 0., 0., 0., 0., 0., 0.,\n",
       "       0., 0., 0., 0., 0., 0., 0., 0., 0., 0., 0.])"
      ]
     },
     "execution_count": 59,
     "metadata": {},
     "output_type": "execute_result"
    }
   ],
   "source": [
    "\n",
    "        likelihood = np.exp(lg_likelihood[1:])\n",
    "        \n",
    "        likelihood\n"
   ]
  },
  {
   "cell_type": "code",
   "execution_count": null,
   "metadata": {},
   "outputs": [],
   "source": [
    "\n",
    "\n",
    "        fig = px.line(likelihood, labels={'number_obs':'Number of Observations', 'runtime':'runtime'},\n",
    "                        title='Likelihood for different model switching points',\n",
    "                        )\n",
    "        fig.update_yaxes(range=[0, np.max(likelihood)])\n",
    "        fig.update_layout(paper_bgcolor='#fff' )\n",
    "        fig.update_layout(plot_bgcolor='#fff' )\n",
    "\n",
    "\n",
    "        \n"
   ]
  }
 ],
 "metadata": {
  "interpreter": {
   "hash": "0908ce7c1ff9854b9388ce484919ef043f22ee32a637bea40fdaaa5a1335c36c"
  },
  "kernelspec": {
   "display_name": "Python 3.8.8 ('base')",
   "language": "python",
   "name": "python3"
  },
  "language_info": {
   "codemirror_mode": {
    "name": "ipython",
    "version": 3
   },
   "file_extension": ".py",
   "mimetype": "text/x-python",
   "name": "python",
   "nbconvert_exporter": "python",
   "pygments_lexer": "ipython3",
   "version": "3.8.8"
  },
  "orig_nbformat": 4
 },
 "nbformat": 4,
 "nbformat_minor": 2
}
