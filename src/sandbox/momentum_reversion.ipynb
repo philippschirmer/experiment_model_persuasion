{
 "cells": [
  {
   "cell_type": "code",
   "execution_count": null,
   "metadata": {},
   "outputs": [],
   "source": [
    "# Idea: Develop a setting where both momentum effects and long term reversion effects are contained.\n",
    "# Such a framework might give a good foundation for conflicting model messages.\n",
    "\n",
    "# TODO: How to initialize such a model?\n",
    "\n",
    "# Idea: there is a long term trend (equal to the \"true\" market rate, or so)\n",
    "# Short term over- or underperformance leads to momentum, i.e. investors exacerbating such effects\n",
    "# in the medium term, there is an overcorrection of momentum, because investor expectations cannot be fulfilled.\n",
    "\n",
    "# TODO: What papers to look into for research?\n"
   ]
  }
 ],
 "metadata": {
  "kernelspec": {
   "display_name": "Python 3.8.8 ('base')",
   "language": "python",
   "name": "python3"
  },
  "language_info": {
   "name": "python",
   "version": "3.8.8"
  },
  "orig_nbformat": 4,
  "vscode": {
   "interpreter": {
    "hash": "0908ce7c1ff9854b9388ce484919ef043f22ee32a637bea40fdaaa5a1335c36c"
   }
  }
 },
 "nbformat": 4,
 "nbformat_minor": 2
}
